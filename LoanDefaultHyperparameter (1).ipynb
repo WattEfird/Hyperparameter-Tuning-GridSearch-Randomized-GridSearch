{
  "cells": [
    {
      "cell_type": "markdown",
      "metadata": {
        "id": "urru-1cTexGM"
      },
      "source": [
        "## Context\n",
        "\n",
        "Banks incur significant losses due to default in loans. This has led to a tightening up of loan underwriting and has increased loan rejection rates. The need for a better credit risk scoring model is also raised by banks.\n",
        "\n",
        "The CNK bank has collected customer data for the past few years and wants to build a model to predict if a customer coming to purchase a loan is a good customer (will not default) or a bad customer (will default)."
      ]
    },
    {
      "cell_type": "code",
      "execution_count": 142,
      "metadata": {
        "id": "UK2k3Mg-q9Rj"
      },
      "outputs": [],
      "source": [
        "# To help with reading and manipulation of data\n",
        "import numpy as np\n",
        "import pandas as pd\n",
        "\n",
        "# To help with data visualization\n",
        "import matplotlib.pyplot as plt\n",
        "import seaborn as sns\n",
        "\n",
        "# To split the data\n",
        "from sklearn.model_selection import train_test_split\n",
        "\n",
        "# To impute missing values\n",
        "from sklearn.impute import SimpleImputer\n",
        "\n",
        "# To build a Random forest classifier\n",
        "from sklearn.ensemble import RandomForestClassifier\n",
        "\n",
        "# Importing for feature engineering and modeling\n",
        "from sklearn.base import BaseEstimator, TransformerMixin\n",
        "from sklearn.preprocessing import OneHotEncoder, MinMaxScaler\n",
        "from sklearn.pipeline import Pipeline, FeatureUnion\n",
        "from sklearn.compose import ColumnTransformer\n",
        "\n",
        "# To tune a model\n",
        "from sklearn.model_selection import GridSearchCV\n",
        "from sklearn.model_selection import RandomizedSearchCV\n",
        "\n",
        "# To get different performance metrics\n",
        "import sklearn.metrics as metrics\n",
        "from sklearn.metrics import (\n",
        "    classification_report,\n",
        "    confusion_matrix,\n",
        "    recall_score,\n",
        "    accuracy_score,\n",
        "    precision_score,\n",
        "    f1_score,\n",
        ")\n",
        "\n",
        "# To suppress warnings\n",
        "import warnings\n",
        "\n",
        "warnings.filterwarnings(\"ignore\")"
      ]
    },
    {
      "cell_type": "code",
      "execution_count": 143,
      "metadata": {
        "colab": {
          "base_uri": "https://localhost:8080/"
        },
        "id": "9siRbms3w2fH",
        "outputId": "7305d562-e861-4d15-be0b-34a3e33000bc"
      },
      "outputs": [
        {
          "output_type": "stream",
          "name": "stdout",
          "text": [
            "Drive already mounted at /content/drive; to attempt to forcibly remount, call drive.mount(\"/content/drive\", force_remount=True).\n"
          ]
        }
      ],
      "source": [
        "from google.colab import drive\n",
        "drive.mount('/content/drive')"
      ]
    },
    {
      "cell_type": "code",
      "execution_count": 144,
      "metadata": {
        "id": "SxWxMOHXS2sV"
      },
      "outputs": [],
      "source": [
        "df = pd.read_csv(\"/content/Loan payments data.csv\")"
      ]
    },
    {
      "cell_type": "code",
      "execution_count": 145,
      "metadata": {
        "id": "OxNrrzU3TCi7"
      },
      "outputs": [],
      "source": [
        "data = df.copy()"
      ]
    },
    {
      "cell_type": "code",
      "execution_count": 146,
      "metadata": {
        "colab": {
          "base_uri": "https://localhost:8080/",
          "height": 206
        },
        "id": "QxTOFKJdTEmS",
        "outputId": "fb0a2918-c686-44c5-c8da-7749e7d9575f"
      },
      "outputs": [
        {
          "output_type": "execute_result",
          "data": {
            "text/plain": [
              "       Loan_ID loan_status  Principal  terms effective_date   due_date  \\\n",
              "0  xqd20166231     PAIDOFF       1000     30       9/8/2016  10/7/2016   \n",
              "1  xqd20168902     PAIDOFF       1000     30       9/8/2016  10/7/2016   \n",
              "2  xqd20160003     PAIDOFF       1000     30       9/8/2016  10/7/2016   \n",
              "3  xqd20160004     PAIDOFF       1000     15       9/8/2016  9/22/2016   \n",
              "4  xqd20160005     PAIDOFF       1000     30       9/9/2016  10/8/2016   \n",
              "\n",
              "     paid_off_time  past_due_days  age             education  Gender  \n",
              "0  9/14/2016 19:31            NaN   45  High School or Below    male  \n",
              "1   10/7/2016 9:00            NaN   50              Bechalor  female  \n",
              "2  9/25/2016 16:58            NaN   33              Bechalor  female  \n",
              "3  9/22/2016 20:00            NaN   27               college    male  \n",
              "4  9/23/2016 21:36            NaN   28               college  female  "
            ],
            "text/html": [
              "\n",
              "  <div id=\"df-ece77641-329b-430f-a5c2-ba5c35b0805d\">\n",
              "    <div class=\"colab-df-container\">\n",
              "      <div>\n",
              "<style scoped>\n",
              "    .dataframe tbody tr th:only-of-type {\n",
              "        vertical-align: middle;\n",
              "    }\n",
              "\n",
              "    .dataframe tbody tr th {\n",
              "        vertical-align: top;\n",
              "    }\n",
              "\n",
              "    .dataframe thead th {\n",
              "        text-align: right;\n",
              "    }\n",
              "</style>\n",
              "<table border=\"1\" class=\"dataframe\">\n",
              "  <thead>\n",
              "    <tr style=\"text-align: right;\">\n",
              "      <th></th>\n",
              "      <th>Loan_ID</th>\n",
              "      <th>loan_status</th>\n",
              "      <th>Principal</th>\n",
              "      <th>terms</th>\n",
              "      <th>effective_date</th>\n",
              "      <th>due_date</th>\n",
              "      <th>paid_off_time</th>\n",
              "      <th>past_due_days</th>\n",
              "      <th>age</th>\n",
              "      <th>education</th>\n",
              "      <th>Gender</th>\n",
              "    </tr>\n",
              "  </thead>\n",
              "  <tbody>\n",
              "    <tr>\n",
              "      <th>0</th>\n",
              "      <td>xqd20166231</td>\n",
              "      <td>PAIDOFF</td>\n",
              "      <td>1000</td>\n",
              "      <td>30</td>\n",
              "      <td>9/8/2016</td>\n",
              "      <td>10/7/2016</td>\n",
              "      <td>9/14/2016 19:31</td>\n",
              "      <td>NaN</td>\n",
              "      <td>45</td>\n",
              "      <td>High School or Below</td>\n",
              "      <td>male</td>\n",
              "    </tr>\n",
              "    <tr>\n",
              "      <th>1</th>\n",
              "      <td>xqd20168902</td>\n",
              "      <td>PAIDOFF</td>\n",
              "      <td>1000</td>\n",
              "      <td>30</td>\n",
              "      <td>9/8/2016</td>\n",
              "      <td>10/7/2016</td>\n",
              "      <td>10/7/2016 9:00</td>\n",
              "      <td>NaN</td>\n",
              "      <td>50</td>\n",
              "      <td>Bechalor</td>\n",
              "      <td>female</td>\n",
              "    </tr>\n",
              "    <tr>\n",
              "      <th>2</th>\n",
              "      <td>xqd20160003</td>\n",
              "      <td>PAIDOFF</td>\n",
              "      <td>1000</td>\n",
              "      <td>30</td>\n",
              "      <td>9/8/2016</td>\n",
              "      <td>10/7/2016</td>\n",
              "      <td>9/25/2016 16:58</td>\n",
              "      <td>NaN</td>\n",
              "      <td>33</td>\n",
              "      <td>Bechalor</td>\n",
              "      <td>female</td>\n",
              "    </tr>\n",
              "    <tr>\n",
              "      <th>3</th>\n",
              "      <td>xqd20160004</td>\n",
              "      <td>PAIDOFF</td>\n",
              "      <td>1000</td>\n",
              "      <td>15</td>\n",
              "      <td>9/8/2016</td>\n",
              "      <td>9/22/2016</td>\n",
              "      <td>9/22/2016 20:00</td>\n",
              "      <td>NaN</td>\n",
              "      <td>27</td>\n",
              "      <td>college</td>\n",
              "      <td>male</td>\n",
              "    </tr>\n",
              "    <tr>\n",
              "      <th>4</th>\n",
              "      <td>xqd20160005</td>\n",
              "      <td>PAIDOFF</td>\n",
              "      <td>1000</td>\n",
              "      <td>30</td>\n",
              "      <td>9/9/2016</td>\n",
              "      <td>10/8/2016</td>\n",
              "      <td>9/23/2016 21:36</td>\n",
              "      <td>NaN</td>\n",
              "      <td>28</td>\n",
              "      <td>college</td>\n",
              "      <td>female</td>\n",
              "    </tr>\n",
              "  </tbody>\n",
              "</table>\n",
              "</div>\n",
              "      <button class=\"colab-df-convert\" onclick=\"convertToInteractive('df-ece77641-329b-430f-a5c2-ba5c35b0805d')\"\n",
              "              title=\"Convert this dataframe to an interactive table.\"\n",
              "              style=\"display:none;\">\n",
              "        \n",
              "  <svg xmlns=\"http://www.w3.org/2000/svg\" height=\"24px\"viewBox=\"0 0 24 24\"\n",
              "       width=\"24px\">\n",
              "    <path d=\"M0 0h24v24H0V0z\" fill=\"none\"/>\n",
              "    <path d=\"M18.56 5.44l.94 2.06.94-2.06 2.06-.94-2.06-.94-.94-2.06-.94 2.06-2.06.94zm-11 1L8.5 8.5l.94-2.06 2.06-.94-2.06-.94L8.5 2.5l-.94 2.06-2.06.94zm10 10l.94 2.06.94-2.06 2.06-.94-2.06-.94-.94-2.06-.94 2.06-2.06.94z\"/><path d=\"M17.41 7.96l-1.37-1.37c-.4-.4-.92-.59-1.43-.59-.52 0-1.04.2-1.43.59L10.3 9.45l-7.72 7.72c-.78.78-.78 2.05 0 2.83L4 21.41c.39.39.9.59 1.41.59.51 0 1.02-.2 1.41-.59l7.78-7.78 2.81-2.81c.8-.78.8-2.07 0-2.86zM5.41 20L4 18.59l7.72-7.72 1.47 1.35L5.41 20z\"/>\n",
              "  </svg>\n",
              "      </button>\n",
              "      \n",
              "  <style>\n",
              "    .colab-df-container {\n",
              "      display:flex;\n",
              "      flex-wrap:wrap;\n",
              "      gap: 12px;\n",
              "    }\n",
              "\n",
              "    .colab-df-convert {\n",
              "      background-color: #E8F0FE;\n",
              "      border: none;\n",
              "      border-radius: 50%;\n",
              "      cursor: pointer;\n",
              "      display: none;\n",
              "      fill: #1967D2;\n",
              "      height: 32px;\n",
              "      padding: 0 0 0 0;\n",
              "      width: 32px;\n",
              "    }\n",
              "\n",
              "    .colab-df-convert:hover {\n",
              "      background-color: #E2EBFA;\n",
              "      box-shadow: 0px 1px 2px rgba(60, 64, 67, 0.3), 0px 1px 3px 1px rgba(60, 64, 67, 0.15);\n",
              "      fill: #174EA6;\n",
              "    }\n",
              "\n",
              "    [theme=dark] .colab-df-convert {\n",
              "      background-color: #3B4455;\n",
              "      fill: #D2E3FC;\n",
              "    }\n",
              "\n",
              "    [theme=dark] .colab-df-convert:hover {\n",
              "      background-color: #434B5C;\n",
              "      box-shadow: 0px 1px 3px 1px rgba(0, 0, 0, 0.15);\n",
              "      filter: drop-shadow(0px 1px 2px rgba(0, 0, 0, 0.3));\n",
              "      fill: #FFFFFF;\n",
              "    }\n",
              "  </style>\n",
              "\n",
              "      <script>\n",
              "        const buttonEl =\n",
              "          document.querySelector('#df-ece77641-329b-430f-a5c2-ba5c35b0805d button.colab-df-convert');\n",
              "        buttonEl.style.display =\n",
              "          google.colab.kernel.accessAllowed ? 'block' : 'none';\n",
              "\n",
              "        async function convertToInteractive(key) {\n",
              "          const element = document.querySelector('#df-ece77641-329b-430f-a5c2-ba5c35b0805d');\n",
              "          const dataTable =\n",
              "            await google.colab.kernel.invokeFunction('convertToInteractive',\n",
              "                                                     [key], {});\n",
              "          if (!dataTable) return;\n",
              "\n",
              "          const docLinkHtml = 'Like what you see? Visit the ' +\n",
              "            '<a target=\"_blank\" href=https://colab.research.google.com/notebooks/data_table.ipynb>data table notebook</a>'\n",
              "            + ' to learn more about interactive tables.';\n",
              "          element.innerHTML = '';\n",
              "          dataTable['output_type'] = 'display_data';\n",
              "          await google.colab.output.renderOutput(dataTable, element);\n",
              "          const docLink = document.createElement('div');\n",
              "          docLink.innerHTML = docLinkHtml;\n",
              "          element.appendChild(docLink);\n",
              "        }\n",
              "      </script>\n",
              "    </div>\n",
              "  </div>\n",
              "  "
            ]
          },
          "metadata": {},
          "execution_count": 146
        }
      ],
      "source": [
        "data.head()"
      ]
    },
    {
      "cell_type": "code",
      "execution_count": 147,
      "metadata": {
        "colab": {
          "base_uri": "https://localhost:8080/"
        },
        "id": "YKN2lf-OTFwB",
        "outputId": "c419681f-5ce7-4d40-da50-58b9e029c7a8"
      },
      "outputs": [
        {
          "output_type": "stream",
          "name": "stdout",
          "text": [
            "<class 'pandas.core.frame.DataFrame'>\n",
            "RangeIndex: 500 entries, 0 to 499\n",
            "Data columns (total 11 columns):\n",
            " #   Column          Non-Null Count  Dtype  \n",
            "---  ------          --------------  -----  \n",
            " 0   Loan_ID         500 non-null    object \n",
            " 1   loan_status     500 non-null    object \n",
            " 2   Principal       500 non-null    int64  \n",
            " 3   terms           500 non-null    int64  \n",
            " 4   effective_date  500 non-null    object \n",
            " 5   due_date        500 non-null    object \n",
            " 6   paid_off_time   400 non-null    object \n",
            " 7   past_due_days   200 non-null    float64\n",
            " 8   age             500 non-null    int64  \n",
            " 9   education       500 non-null    object \n",
            " 10  Gender          500 non-null    object \n",
            "dtypes: float64(1), int64(3), object(7)\n",
            "memory usage: 43.1+ KB\n"
          ]
        }
      ],
      "source": [
        "data.info()"
      ]
    },
    {
      "cell_type": "code",
      "source": [
        "data.iloc[:,[7]]"
      ],
      "metadata": {
        "colab": {
          "base_uri": "https://localhost:8080/",
          "height": 423
        },
        "id": "2uAX6vr1p51H",
        "outputId": "8dda1d69-97c3-4cf1-8d9d-f47ffd8bda45"
      },
      "execution_count": 148,
      "outputs": [
        {
          "output_type": "execute_result",
          "data": {
            "text/plain": [
              "     past_due_days\n",
              "0              NaN\n",
              "1              NaN\n",
              "2              NaN\n",
              "3              NaN\n",
              "4              NaN\n",
              "..             ...\n",
              "495            3.0\n",
              "496           14.0\n",
              "497            3.0\n",
              "498            1.0\n",
              "499            8.0\n",
              "\n",
              "[500 rows x 1 columns]"
            ],
            "text/html": [
              "\n",
              "  <div id=\"df-f41b4724-f647-4225-86c7-2d02a7c30031\">\n",
              "    <div class=\"colab-df-container\">\n",
              "      <div>\n",
              "<style scoped>\n",
              "    .dataframe tbody tr th:only-of-type {\n",
              "        vertical-align: middle;\n",
              "    }\n",
              "\n",
              "    .dataframe tbody tr th {\n",
              "        vertical-align: top;\n",
              "    }\n",
              "\n",
              "    .dataframe thead th {\n",
              "        text-align: right;\n",
              "    }\n",
              "</style>\n",
              "<table border=\"1\" class=\"dataframe\">\n",
              "  <thead>\n",
              "    <tr style=\"text-align: right;\">\n",
              "      <th></th>\n",
              "      <th>past_due_days</th>\n",
              "    </tr>\n",
              "  </thead>\n",
              "  <tbody>\n",
              "    <tr>\n",
              "      <th>0</th>\n",
              "      <td>NaN</td>\n",
              "    </tr>\n",
              "    <tr>\n",
              "      <th>1</th>\n",
              "      <td>NaN</td>\n",
              "    </tr>\n",
              "    <tr>\n",
              "      <th>2</th>\n",
              "      <td>NaN</td>\n",
              "    </tr>\n",
              "    <tr>\n",
              "      <th>3</th>\n",
              "      <td>NaN</td>\n",
              "    </tr>\n",
              "    <tr>\n",
              "      <th>4</th>\n",
              "      <td>NaN</td>\n",
              "    </tr>\n",
              "    <tr>\n",
              "      <th>...</th>\n",
              "      <td>...</td>\n",
              "    </tr>\n",
              "    <tr>\n",
              "      <th>495</th>\n",
              "      <td>3.0</td>\n",
              "    </tr>\n",
              "    <tr>\n",
              "      <th>496</th>\n",
              "      <td>14.0</td>\n",
              "    </tr>\n",
              "    <tr>\n",
              "      <th>497</th>\n",
              "      <td>3.0</td>\n",
              "    </tr>\n",
              "    <tr>\n",
              "      <th>498</th>\n",
              "      <td>1.0</td>\n",
              "    </tr>\n",
              "    <tr>\n",
              "      <th>499</th>\n",
              "      <td>8.0</td>\n",
              "    </tr>\n",
              "  </tbody>\n",
              "</table>\n",
              "<p>500 rows × 1 columns</p>\n",
              "</div>\n",
              "      <button class=\"colab-df-convert\" onclick=\"convertToInteractive('df-f41b4724-f647-4225-86c7-2d02a7c30031')\"\n",
              "              title=\"Convert this dataframe to an interactive table.\"\n",
              "              style=\"display:none;\">\n",
              "        \n",
              "  <svg xmlns=\"http://www.w3.org/2000/svg\" height=\"24px\"viewBox=\"0 0 24 24\"\n",
              "       width=\"24px\">\n",
              "    <path d=\"M0 0h24v24H0V0z\" fill=\"none\"/>\n",
              "    <path d=\"M18.56 5.44l.94 2.06.94-2.06 2.06-.94-2.06-.94-.94-2.06-.94 2.06-2.06.94zm-11 1L8.5 8.5l.94-2.06 2.06-.94-2.06-.94L8.5 2.5l-.94 2.06-2.06.94zm10 10l.94 2.06.94-2.06 2.06-.94-2.06-.94-.94-2.06-.94 2.06-2.06.94z\"/><path d=\"M17.41 7.96l-1.37-1.37c-.4-.4-.92-.59-1.43-.59-.52 0-1.04.2-1.43.59L10.3 9.45l-7.72 7.72c-.78.78-.78 2.05 0 2.83L4 21.41c.39.39.9.59 1.41.59.51 0 1.02-.2 1.41-.59l7.78-7.78 2.81-2.81c.8-.78.8-2.07 0-2.86zM5.41 20L4 18.59l7.72-7.72 1.47 1.35L5.41 20z\"/>\n",
              "  </svg>\n",
              "      </button>\n",
              "      \n",
              "  <style>\n",
              "    .colab-df-container {\n",
              "      display:flex;\n",
              "      flex-wrap:wrap;\n",
              "      gap: 12px;\n",
              "    }\n",
              "\n",
              "    .colab-df-convert {\n",
              "      background-color: #E8F0FE;\n",
              "      border: none;\n",
              "      border-radius: 50%;\n",
              "      cursor: pointer;\n",
              "      display: none;\n",
              "      fill: #1967D2;\n",
              "      height: 32px;\n",
              "      padding: 0 0 0 0;\n",
              "      width: 32px;\n",
              "    }\n",
              "\n",
              "    .colab-df-convert:hover {\n",
              "      background-color: #E2EBFA;\n",
              "      box-shadow: 0px 1px 2px rgba(60, 64, 67, 0.3), 0px 1px 3px 1px rgba(60, 64, 67, 0.15);\n",
              "      fill: #174EA6;\n",
              "    }\n",
              "\n",
              "    [theme=dark] .colab-df-convert {\n",
              "      background-color: #3B4455;\n",
              "      fill: #D2E3FC;\n",
              "    }\n",
              "\n",
              "    [theme=dark] .colab-df-convert:hover {\n",
              "      background-color: #434B5C;\n",
              "      box-shadow: 0px 1px 3px 1px rgba(0, 0, 0, 0.15);\n",
              "      filter: drop-shadow(0px 1px 2px rgba(0, 0, 0, 0.3));\n",
              "      fill: #FFFFFF;\n",
              "    }\n",
              "  </style>\n",
              "\n",
              "      <script>\n",
              "        const buttonEl =\n",
              "          document.querySelector('#df-f41b4724-f647-4225-86c7-2d02a7c30031 button.colab-df-convert');\n",
              "        buttonEl.style.display =\n",
              "          google.colab.kernel.accessAllowed ? 'block' : 'none';\n",
              "\n",
              "        async function convertToInteractive(key) {\n",
              "          const element = document.querySelector('#df-f41b4724-f647-4225-86c7-2d02a7c30031');\n",
              "          const dataTable =\n",
              "            await google.colab.kernel.invokeFunction('convertToInteractive',\n",
              "                                                     [key], {});\n",
              "          if (!dataTable) return;\n",
              "\n",
              "          const docLinkHtml = 'Like what you see? Visit the ' +\n",
              "            '<a target=\"_blank\" href=https://colab.research.google.com/notebooks/data_table.ipynb>data table notebook</a>'\n",
              "            + ' to learn more about interactive tables.';\n",
              "          element.innerHTML = '';\n",
              "          dataTable['output_type'] = 'display_data';\n",
              "          await google.colab.output.renderOutput(dataTable, element);\n",
              "          const docLink = document.createElement('div');\n",
              "          docLink.innerHTML = docLinkHtml;\n",
              "          element.appendChild(docLink);\n",
              "        }\n",
              "      </script>\n",
              "    </div>\n",
              "  </div>\n",
              "  "
            ]
          },
          "metadata": {},
          "execution_count": 148
        }
      ]
    },
    {
      "cell_type": "code",
      "source": [
        "data.drop([\"Loan_ID\", \"paid_off_time\"], axis=1, inplace=True)"
      ],
      "metadata": {
        "id": "2BkUjxVWj2nV"
      },
      "execution_count": 149,
      "outputs": []
    },
    {
      "cell_type": "code",
      "execution_count": 150,
      "metadata": {
        "id": "KhVGV6swcjKe"
      },
      "outputs": [],
      "source": [
        "data[\"loan_status\"] = data[\"loan_status\"].astype(\"category\")\n",
        "data[\"effective_date\"] = data[\"effective_date\"].astype(\"category\")\n",
        "data[\"due_date\"] = data[\"due_date\"].astype(\"category\")\n",
        "data[\"education\"] = data[\"education\"].astype(\"category\")\n",
        "data[\"Gender\"] = data[\"Gender\"].astype(\"category\")"
      ]
    },
    {
      "cell_type": "code",
      "execution_count": 151,
      "metadata": {
        "colab": {
          "base_uri": "https://localhost:8080/"
        },
        "id": "W5Dyj4vAVfPn",
        "outputId": "e6ee23de-3113-498b-d7e3-3f36c296cd9e"
      },
      "outputs": [
        {
          "output_type": "execute_result",
          "data": {
            "text/plain": [
              "loan_status         0\n",
              "Principal           0\n",
              "terms               0\n",
              "effective_date      0\n",
              "due_date            0\n",
              "past_due_days     300\n",
              "age                 0\n",
              "education           0\n",
              "Gender              0\n",
              "dtype: int64"
            ]
          },
          "metadata": {},
          "execution_count": 151
        }
      ],
      "source": [
        "data.isnull().sum()"
      ]
    },
    {
      "cell_type": "code",
      "execution_count": 152,
      "metadata": {
        "colab": {
          "base_uri": "https://localhost:8080/"
        },
        "id": "fdOPsD3JT6Ah",
        "outputId": "f3b2abbb-fa31-4d92-a8de-4992735eef32"
      },
      "outputs": [
        {
          "output_type": "execute_result",
          "data": {
            "text/plain": [
              "PAIDOFF               0.6\n",
              "COLLECTION            0.2\n",
              "COLLECTION_PAIDOFF    0.2\n",
              "Name: loan_status, dtype: float64"
            ]
          },
          "metadata": {},
          "execution_count": 152
        }
      ],
      "source": [
        "data[\"loan_status\"].value_counts(1)"
      ]
    },
    {
      "cell_type": "code",
      "source": [
        "data[\"loan_status\"] = data[\"loan_status\"].map({\"PAIDOFF\":0, \"COLLECTION\":1, \"COLLECTION_PAIDOFF\":1})"
      ],
      "metadata": {
        "id": "VTyYzX16vb6V"
      },
      "execution_count": 155,
      "outputs": []
    },
    {
      "cell_type": "code",
      "execution_count": 156,
      "metadata": {
        "id": "o4j-82CgUS2w"
      },
      "outputs": [],
      "source": [
        "X = data.drop([\"loan_status\"], axis=1)\n",
        "y = data[\"loan_status\"]\n",
        "\n",
        "X = pd.get_dummies(X, drop_first=True)"
      ]
    },
    {
      "cell_type": "code",
      "execution_count": 157,
      "metadata": {
        "colab": {
          "base_uri": "https://localhost:8080/"
        },
        "id": "aP2Dbt6NUiDB",
        "outputId": "64e5e191-85b9-477a-970f-6766d0879f46"
      },
      "outputs": [
        {
          "output_type": "stream",
          "name": "stdout",
          "text": [
            "(320, 38) (80, 38) (100, 38)\n"
          ]
        }
      ],
      "source": [
        "#Splitting the data into training, validation and test set\n",
        "\n",
        "#First we split the data into 2 parts, temporary and test set\n",
        "X_temp, X_test, y_temp, y_test = train_test_split(\n",
        "    X, y, test_size=0.2, random_state=5, stratify=y\n",
        ")\n",
        "\n",
        "#then we split the temporary dataset into train and validation\n",
        "X_train, X_val, y_train, y_val = train_test_split(\n",
        "    X_temp, y_temp, test_size=0.2, random_state=5, stratify=y_temp\n",
        ")\n",
        "\n",
        "print(X_train.shape, X_val.shape, X_test.shape)"
      ]
    },
    {
      "cell_type": "code",
      "source": [
        "transformer = ColumnTransformer(transformers=[('num', SimpleImputer(strategy='median'), [5])])\n",
        "\n",
        "X_train[\"past_due_days\"] = transformer.fit_transform(X_train)\n",
        "X_val[\"past_due_days\"] = transformer.fit_transform(X_val)\n",
        "X_test[\"past_due_days\"] = transformer.fit_transform(X_test)"
      ],
      "metadata": {
        "id": "ZEesp-uZrjRX"
      },
      "execution_count": 158,
      "outputs": []
    },
    {
      "cell_type": "code",
      "execution_count": 159,
      "metadata": {
        "colab": {
          "base_uri": "https://localhost:8080/"
        },
        "id": "0qmWAysWXGue",
        "outputId": "e0cc73fa-36c1-439c-d4ff-644cfe8238e8"
      },
      "outputs": [
        {
          "output_type": "stream",
          "name": "stdout",
          "text": [
            "Target value ratio in y\n",
            "0    0.6\n",
            "1    0.4\n",
            "Name: loan_status, dtype: float64\n",
            "********************************************************************************\n",
            "Target value ratio in y_train\n",
            "0    0.6\n",
            "1    0.4\n",
            "Name: loan_status, dtype: float64\n",
            "********************************************************************************\n",
            "Target value ratio in y_val\n",
            "0    0.6\n",
            "1    0.4\n",
            "Name: loan_status, dtype: float64\n",
            "********************************************************************************\n",
            "Target value ratio in y_test\n",
            "0    0.6\n",
            "1    0.4\n",
            "Name: loan_status, dtype: float64\n",
            "********************************************************************************\n"
          ]
        }
      ],
      "source": [
        "print(\"Target value ratio in y\")\n",
        "print(y.value_counts(1))\n",
        "print(\"*\" * 80)\n",
        "print(\"Target value ratio in y_train\")\n",
        "print(y_train.value_counts(1))\n",
        "print(\"*\" * 80)\n",
        "print(\"Target value ratio in y_val\")\n",
        "print(y_val.value_counts(1))\n",
        "print(\"*\" * 80)\n",
        "print(\"Target value ratio in y_test\")\n",
        "print(y_test.value_counts(1))\n",
        "print(\"*\" * 80)"
      ]
    },
    {
      "cell_type": "markdown",
      "metadata": {
        "id": "30jm_OXJat4G"
      },
      "source": [
        "## Model evaluation criterion\n",
        "\n",
        "\n",
        "**What does a bank want?**\n",
        "* A bank wants to minimize the loss - it can face 2 types of losses here: \n",
        "   * Whenever a bank lends money to a customer, they don't return it.\n",
        "   * A bank doesn't lend money to a customer thinking a customer will default but in reality, the customer won't - opportunity loss.\n",
        "\n",
        "**Which loss is greater ?**\n",
        "* Lending to a customer who wouldn't be able to pay back.\n",
        "\n",
        "**Since we want to reduce loan defaults we should use Recall as a metric of model evaluation instead of accuracy.**\n",
        "\n",
        "* Recall - It gives the ratio of True positives to Actual positives, so high Recall implies low false negatives, i.e. low chances of predicting a bad customer as a good customer.\n"
      ]
    },
    {
      "cell_type": "markdown",
      "metadata": {
        "id": "j6alhuirsj1r"
      },
      "source": [
        "# Hyperparameter Tuning"
      ]
    },
    {
      "cell_type": "code",
      "execution_count": 160,
      "metadata": {
        "colab": {
          "base_uri": "https://localhost:8080/"
        },
        "id": "B6F3hJEndsxr",
        "outputId": "2ab1fa8d-ad1f-4db0-af79-86c3a5c5dd09"
      },
      "outputs": [
        {
          "output_type": "stream",
          "name": "stdout",
          "text": [
            "<class 'pandas.core.frame.DataFrame'>\n",
            "Int64Index: 320 entries, 366 to 275\n",
            "Data columns (total 38 columns):\n",
            " #   Column                          Non-Null Count  Dtype  \n",
            "---  ------                          --------------  -----  \n",
            " 0   Principal                       320 non-null    int64  \n",
            " 1   terms                           320 non-null    int64  \n",
            " 2   past_due_days                   320 non-null    float64\n",
            " 3   age                             320 non-null    int64  \n",
            " 4   effective_date_9/11/2016        320 non-null    uint8  \n",
            " 5   effective_date_9/12/2016        320 non-null    uint8  \n",
            " 6   effective_date_9/13/2016        320 non-null    uint8  \n",
            " 7   effective_date_9/14/2016        320 non-null    uint8  \n",
            " 8   effective_date_9/8/2016         320 non-null    uint8  \n",
            " 9   effective_date_9/9/2016         320 non-null    uint8  \n",
            " 10  due_date_10/11/2016             320 non-null    uint8  \n",
            " 11  due_date_10/12/2016             320 non-null    uint8  \n",
            " 12  due_date_10/13/2016             320 non-null    uint8  \n",
            " 13  due_date_10/25/2016             320 non-null    uint8  \n",
            " 14  due_date_10/26/2016             320 non-null    uint8  \n",
            " 15  due_date_10/7/2016              320 non-null    uint8  \n",
            " 16  due_date_10/8/2016              320 non-null    uint8  \n",
            " 17  due_date_10/9/2016              320 non-null    uint8  \n",
            " 18  due_date_11/10/2016             320 non-null    uint8  \n",
            " 19  due_date_11/12/2016             320 non-null    uint8  \n",
            " 20  due_date_11/7/2016              320 non-null    uint8  \n",
            " 21  due_date_11/9/2016              320 non-null    uint8  \n",
            " 22  due_date_9/15/2016              320 non-null    uint8  \n",
            " 23  due_date_9/16/2016              320 non-null    uint8  \n",
            " 24  due_date_9/17/2016              320 non-null    uint8  \n",
            " 25  due_date_9/18/2016              320 non-null    uint8  \n",
            " 26  due_date_9/19/2016              320 non-null    uint8  \n",
            " 27  due_date_9/22/2016              320 non-null    uint8  \n",
            " 28  due_date_9/23/2016              320 non-null    uint8  \n",
            " 29  due_date_9/24/2016              320 non-null    uint8  \n",
            " 30  due_date_9/25/2016              320 non-null    uint8  \n",
            " 31  due_date_9/26/2016              320 non-null    uint8  \n",
            " 32  due_date_9/27/2016              320 non-null    uint8  \n",
            " 33  due_date_9/28/2016              320 non-null    uint8  \n",
            " 34  education_High School or Below  320 non-null    uint8  \n",
            " 35  education_Master or Above       320 non-null    uint8  \n",
            " 36  education_college               320 non-null    uint8  \n",
            " 37  Gender_male                     320 non-null    uint8  \n",
            "dtypes: float64(1), int64(3), uint8(34)\n",
            "memory usage: 23.1 KB\n"
          ]
        }
      ],
      "source": [
        "X_train.info()"
      ]
    },
    {
      "cell_type": "code",
      "execution_count": 161,
      "metadata": {
        "colab": {
          "base_uri": "https://localhost:8080/"
        },
        "id": "9hKVS0RudEkG",
        "outputId": "fd840fd3-06b8-4ae4-a950-75ca83978483"
      },
      "outputs": [
        {
          "output_type": "execute_result",
          "data": {
            "text/plain": [
              "RandomForestClassifier(random_state=1)"
            ]
          },
          "metadata": {},
          "execution_count": 161
        }
      ],
      "source": [
        "# model without hyperparameter tuning\n",
        "rf = RandomForestClassifier(random_state=1)\n",
        "rf.fit(X_train, y_train)"
      ]
    },
    {
      "cell_type": "code",
      "execution_count": 162,
      "metadata": {
        "colab": {
          "base_uri": "https://localhost:8080/"
        },
        "id": "Wpmoqh8sat4I",
        "outputId": "d8f36b19-0283-43f7-d74f-da998d7ceab4"
      },
      "outputs": [
        {
          "output_type": "stream",
          "name": "stdout",
          "text": [
            "Recall on train and validation set\n",
            "0.9140625\n",
            "0.59375\n",
            "\n",
            "Precision on train and validation set\n",
            "0.9285714285714286\n",
            "0.5135135135135135\n",
            "\n",
            "Accuracy on train and validation set\n",
            "0.9375\n",
            "0.6125\n"
          ]
        }
      ],
      "source": [
        "# Checking recall score on train and validation set\n",
        "print(\"Recall on train and validation set\")\n",
        "print(recall_score(y_train, rf.predict(X_train)))\n",
        "print(recall_score(y_val, rf.predict(X_val)))\n",
        "print(\"\")\n",
        "\n",
        "# Checking Precision score on train and validation set\n",
        "print(\"Precision on train and validation set\")\n",
        "print(precision_score(y_train, rf.predict(X_train)))\n",
        "print(precision_score(y_val, rf.predict(X_val)))\n",
        "\n",
        "print(\"\")\n",
        "\n",
        "# Checking Accuracy score on train and validation set\n",
        "print(\"Accuracy on train and validation set\")\n",
        "print(accuracy_score(y_train, rf.predict(X_train)))\n",
        "print(accuracy_score(y_val, rf.predict(X_val)))"
      ]
    },
    {
      "cell_type": "markdown",
      "metadata": {
        "id": "EptTvLbuat4J"
      },
      "source": [
        "## Grid Search CV\n",
        "* Hyperparameter tuning is also tricky in the sense that there is no direct way to calculate how a change in the hyperparameter value will reduce the loss of your model, so we usually resort to experimentation. i.e we'll use Grid search\n",
        "* Grid search is a tuning technique that attempts to compute the optimum values of hyperparameters. \n",
        "* It is an exhaustive search that is performed on the specific parameter values of a model.\n",
        "* The parameters of the estimator/model used to apply these methods are optimized by cross-validated grid-search over a parameter grid."
      ]
    },
    {
      "cell_type": "code",
      "execution_count": 163,
      "metadata": {
        "colab": {
          "base_uri": "https://localhost:8080/"
        },
        "id": "w9_tWJ6Hgf2b",
        "outputId": "776f45ee-763b-4a3f-ad78-f46e24e41833"
      },
      "outputs": [
        {
          "output_type": "execute_result",
          "data": {
            "text/plain": [
              "{'bootstrap': True,\n",
              " 'ccp_alpha': 0.0,\n",
              " 'class_weight': None,\n",
              " 'criterion': 'gini',\n",
              " 'max_depth': None,\n",
              " 'max_features': 'auto',\n",
              " 'max_leaf_nodes': None,\n",
              " 'max_samples': None,\n",
              " 'min_impurity_decrease': 0.0,\n",
              " 'min_samples_leaf': 1,\n",
              " 'min_samples_split': 2,\n",
              " 'min_weight_fraction_leaf': 0.0,\n",
              " 'n_estimators': 100,\n",
              " 'n_jobs': None,\n",
              " 'oob_score': False,\n",
              " 'random_state': None,\n",
              " 'verbose': 0,\n",
              " 'warm_start': False}"
            ]
          },
          "metadata": {},
          "execution_count": 163
        }
      ],
      "source": [
        "RandomForestClassifier().get_params()"
      ]
    },
    {
      "cell_type": "code",
      "execution_count": 164,
      "metadata": {
        "colab": {
          "base_uri": "https://localhost:8080/"
        },
        "id": "VnKFyRAwVAPn",
        "outputId": "f1a74551-a5fb-4afb-ef94-1113cffaf797"
      },
      "outputs": [
        {
          "output_type": "stream",
          "name": "stdout",
          "text": [
            "[0.2 0.3 0.4 0.5 0.6]\n",
            "[5 6 7 8 9]\n"
          ]
        }
      ],
      "source": [
        "print(np.arange(0.2, 0.7, 0.1))\n",
        "\n",
        "print(np.arange(5,10))"
      ]
    },
    {
      "cell_type": "markdown",
      "metadata": {
        "id": "3m5AtskSat4K"
      },
      "source": [
        "### Let's tune Random forest using Grid Search"
      ]
    },
    {
      "cell_type": "code",
      "execution_count": 166,
      "metadata": {
        "colab": {
          "base_uri": "https://localhost:8080/"
        },
        "id": "ylfOoVr0at4K",
        "outputId": "07bf996d-26c1-4277-f8ef-c6b62197d0e2"
      },
      "outputs": [
        {
          "output_type": "stream",
          "name": "stdout",
          "text": [
            "Fitting 5 folds for each of 1800 candidates, totalling 9000 fits\n",
            "CPU times: user 41.9 s, sys: 3.5 s, total: 45.4 s\n",
            "Wall time: 40min 14s\n"
          ]
        },
        {
          "output_type": "execute_result",
          "data": {
            "text/plain": [
              "{'class_weight': 'balanced',\n",
              " 'max_depth': 3,\n",
              " 'max_features': 0.2,\n",
              " 'max_samples': 0.6000000000000001,\n",
              " 'min_impurity_decrease': 0.002,\n",
              " 'min_samples_leaf': 5,\n",
              " 'n_estimators': 250}"
            ]
          },
          "metadata": {},
          "execution_count": 166
        }
      ],
      "source": [
        "%%time\n",
        "\n",
        "# Choose the type of classifier. \n",
        "rf1 = RandomForestClassifier(random_state=1)\n",
        "\n",
        "# Grid of parameters to choose from\n",
        "parameters = {\"n_estimators\": [150,200,250],\n",
        "    \"min_samples_leaf\": np.arange(5, 10),\n",
        "    \"max_features\": np.arange(0.2, 0.7, 0.1),\n",
        "    \"max_samples\": np.arange(0.3, 0.7, 0.1),\n",
        "    \"class_weight\" : ['balanced', 'balanced_subsample'],\n",
        "    \"max_depth\":np.arange(3,4,5),\n",
        "    \"min_impurity_decrease\":[0.001, 0.002, 0.003]\n",
        "             }\n",
        "\n",
        "# Type of scoring used to compare parameter combinations\n",
        "acc_scorer = metrics.make_scorer(metrics.recall_score)\n",
        "\n",
        "# Run the grid search\n",
        "grid_obj = GridSearchCV(rf1, parameters, scoring=acc_scorer, cv=5, n_jobs= -1, verbose = 2)\n",
        "# verbose = 2 tells about the number of fits, which can give an idea of how long will the model take in tuning\n",
        "# n_jobs = -1 so that all CPU cores can be run parallelly to optimize the Search\n",
        "\n",
        "grid_obj = grid_obj.fit(X_train, y_train)\n",
        "\n",
        "# Print the best combination of parameters\n",
        "grid_obj.best_params_\n"
      ]
    },
    {
      "cell_type": "code",
      "execution_count": 167,
      "metadata": {
        "colab": {
          "base_uri": "https://localhost:8080/"
        },
        "id": "SVO8ak5Fat4L",
        "outputId": "4d56b545-03f0-4d36-ec2d-f09b218a82bb"
      },
      "outputs": [
        {
          "output_type": "execute_result",
          "data": {
            "text/plain": [
              "0.711076923076923"
            ]
          },
          "metadata": {},
          "execution_count": 167
        }
      ],
      "source": [
        "grid_obj.best_score_"
      ]
    },
    {
      "cell_type": "code",
      "execution_count": 168,
      "metadata": {
        "colab": {
          "base_uri": "https://localhost:8080/"
        },
        "id": "LgTSXwpOg6xO",
        "outputId": "a0d7927e-7d23-4c6c-f463-9157502bfdd8"
      },
      "outputs": [
        {
          "output_type": "execute_result",
          "data": {
            "text/plain": [
              "RandomForestClassifier(class_weight='balanced', max_depth=3, max_features=0.2,\n",
              "                       max_samples=0.6000000000000001,\n",
              "                       min_impurity_decrease=0.001, min_samples_leaf=5,\n",
              "                       n_estimators=150, random_state=1)"
            ]
          },
          "metadata": {},
          "execution_count": 168
        }
      ],
      "source": [
        "# Set the clf to the best combination of parameters\n",
        "rf1_tuned = RandomForestClassifier(\n",
        "    class_weight=\"balanced\",\n",
        "    max_features=0.2,\n",
        "    max_samples=0.6000000000000001,\n",
        "    min_samples_leaf=5,\n",
        "    n_estimators=150,\n",
        "    max_depth=3,\n",
        "    random_state=1,\n",
        "    min_impurity_decrease=0.001,\n",
        ")\n",
        "\n",
        "# Fit the best algorithm to the data.\n",
        "rf1_tuned.fit(X_train, y_train)"
      ]
    },
    {
      "cell_type": "code",
      "execution_count": 169,
      "metadata": {
        "colab": {
          "base_uri": "https://localhost:8080/"
        },
        "id": "Uwkw63nFat4M",
        "outputId": "77429efd-637d-4c2e-ccfe-b6061cbbb0cf"
      },
      "outputs": [
        {
          "output_type": "stream",
          "name": "stdout",
          "text": [
            "Recall on train and validation set\n",
            "0.8125\n",
            "0.84375\n",
            "\n",
            "Precision on train and validation set\n",
            "0.5333333333333333\n",
            "0.5\n",
            "\n",
            "Accuracy on train and validation set\n",
            "0.640625\n",
            "0.6\n"
          ]
        }
      ],
      "source": [
        "# Checking recall score on train and validation set\n",
        "print(\"Recall on train and validation set\")\n",
        "print(recall_score(y_train, rf1_tuned.predict(X_train)))\n",
        "print(recall_score(y_val, rf1_tuned.predict(X_val)))\n",
        "print(\"\")\n",
        "\n",
        "# Checking precision score on train and validation set\n",
        "print(\"Precision on train and validation set\")\n",
        "print(precision_score(y_train, rf1_tuned.predict(X_train)))\n",
        "print(precision_score(y_val, rf1_tuned.predict(X_val)))\n",
        "print(\"\")\n",
        "\n",
        "# Checking accuracy score on train and validation set\n",
        "print(\"Accuracy on train and validation set\")\n",
        "print(accuracy_score(y_train, rf1_tuned.predict(X_train)))\n",
        "print(accuracy_score(y_val, rf1_tuned.predict(X_val)))"
      ]
    },
    {
      "cell_type": "markdown",
      "metadata": {
        "id": "UnujALXkat4O"
      },
      "source": [
        "## Randomized Search CV\n",
        "* Random search is a tuning technique that attempts to compute the optimum values of hyperparameters randomly unlike grid search"
      ]
    },
    {
      "cell_type": "code",
      "execution_count": 170,
      "metadata": {
        "colab": {
          "base_uri": "https://localhost:8080/"
        },
        "id": "-4Lkjcefat4P",
        "outputId": "af0f024c-a272-4cbc-833c-6916117f1429"
      },
      "outputs": [
        {
          "output_type": "stream",
          "name": "stdout",
          "text": [
            "Fitting 5 folds for each of 30 candidates, totalling 150 fits\n",
            "CPU times: user 902 ms, sys: 63.2 ms, total: 966 ms\n",
            "Wall time: 37.7 s\n"
          ]
        },
        {
          "output_type": "execute_result",
          "data": {
            "text/plain": [
              "{'n_estimators': 150,\n",
              " 'min_samples_leaf': 5,\n",
              " 'min_impurity_decrease': 0.003,\n",
              " 'max_samples': 0.5,\n",
              " 'max_features': 0.2,\n",
              " 'max_depth': 3,\n",
              " 'class_weight': 'balanced'}"
            ]
          },
          "metadata": {},
          "execution_count": 170
        }
      ],
      "source": [
        "%%time\n",
        "\n",
        "# Choose the type of classifier. \n",
        "rf2 = RandomForestClassifier(random_state=1)\n",
        "\n",
        "# Grid of parameters to choose from\n",
        "parameters = {\"n_estimators\": [150,200,250],\n",
        "    \"min_samples_leaf\": np.arange(5, 10),\n",
        "    \"max_features\": np.arange(0.2, 0.7, 0.1), \n",
        "    \"max_samples\": np.arange(0.3, 0.7, 0.1),\n",
        "    \"max_depth\":np.arange(3,4,5),\n",
        "    \"class_weight\" : ['balanced', 'balanced_subsample'],\n",
        "    \"min_impurity_decrease\":[0.001, 0.002, 0.003]\n",
        "             }\n",
        "\n",
        "# Type of scoring used to compare parameter combinations\n",
        "acc_scorer = metrics.make_scorer(metrics.recall_score)\n",
        "\n",
        "# Run the random search\n",
        "grid_obj = RandomizedSearchCV(rf2, parameters,n_iter=30, scoring=acc_scorer,cv=5, random_state = 1, n_jobs = -1, verbose = 2)\n",
        "# using n_iter = 30, so randomized search will try 30 different combinations of hyperparameters\n",
        "# by default, n_iter = 10\n",
        "\n",
        "grid_obj = grid_obj.fit(X_train, y_train)\n",
        "\n",
        "# Print the best combination of parameters\n",
        "grid_obj.best_params_\n"
      ]
    },
    {
      "cell_type": "code",
      "execution_count": 171,
      "metadata": {
        "colab": {
          "base_uri": "https://localhost:8080/"
        },
        "id": "OjXflRTVhJxX",
        "outputId": "1c4ee8f2-b398-4b8c-9ef5-0c17f31026fd"
      },
      "outputs": [
        {
          "output_type": "execute_result",
          "data": {
            "text/plain": [
              "0.703076923076923"
            ]
          },
          "metadata": {},
          "execution_count": 171
        }
      ],
      "source": [
        "grid_obj.best_score_"
      ]
    },
    {
      "cell_type": "code",
      "execution_count": 172,
      "metadata": {
        "colab": {
          "base_uri": "https://localhost:8080/"
        },
        "id": "uuFBNxf6hMSJ",
        "outputId": "9dc50665-b9b7-428b-8d44-fb31de2b1086"
      },
      "outputs": [
        {
          "output_type": "execute_result",
          "data": {
            "text/plain": [
              "RandomForestClassifier(class_weight='balanced', max_depth=3, max_features=0.2,\n",
              "                       max_samples=0.5, min_impurity_decrease=0.003,\n",
              "                       min_samples_leaf=5, n_estimators=150, random_state=1)"
            ]
          },
          "metadata": {},
          "execution_count": 172
        }
      ],
      "source": [
        "# Set the clf to the best combination of parameters\n",
        "rf2_tuned = RandomForestClassifier(\n",
        "    class_weight=\"balanced\",\n",
        "    max_features=0.2,\n",
        "    max_samples=0.5,\n",
        "    min_samples_leaf=5,\n",
        "    n_estimators=150,\n",
        "    random_state=1,\n",
        "    max_depth=3,\n",
        "    min_impurity_decrease=0.003,\n",
        ")\n",
        "\n",
        "# Fit the best algorithm to the data.\n",
        "rf2_tuned.fit(X_train, y_train)"
      ]
    },
    {
      "cell_type": "code",
      "execution_count": 173,
      "metadata": {
        "colab": {
          "base_uri": "https://localhost:8080/"
        },
        "id": "Ji4FaIJ3hOoK",
        "outputId": "33c49596-5e31-4d5f-9b5a-697fdb5e1331"
      },
      "outputs": [
        {
          "output_type": "stream",
          "name": "stdout",
          "text": [
            "Recall on train and validation set\n",
            "0.78125\n",
            "0.84375\n",
            "\n",
            "Precision on train and validation set\n",
            "0.5376344086021505\n",
            "0.5294117647058824\n",
            "\n",
            "Accuracy on train and validation set\n",
            "0.64375\n",
            "0.6375\n"
          ]
        }
      ],
      "source": [
        "# Checking recall score on train and validation set\n",
        "print(\"Recall on train and validation set\")\n",
        "print(recall_score(y_train, rf2_tuned.predict(X_train)))\n",
        "print(recall_score(y_val, rf2_tuned.predict(X_val)))\n",
        "print(\"\")\n",
        "print(\"Precision on train and validation set\")\n",
        "# Checking precision score on train and validation set\n",
        "print(precision_score(y_train, rf2_tuned.predict(X_train)))\n",
        "print(precision_score(y_val, rf2_tuned.predict(X_val)))\n",
        "print(\"\")\n",
        "print(\"Accuracy on train and validation set\")\n",
        "# Checking accuracy score on train and validation set\n",
        "print(accuracy_score(y_train, rf2_tuned.predict(X_train)))\n",
        "print(accuracy_score(y_val, rf2_tuned.predict(X_val)))"
      ]
    },
    {
      "cell_type": "code",
      "execution_count": 174,
      "metadata": {
        "id": "GiA6Vt0uhRIs"
      },
      "outputs": [],
      "source": [
        "model = rf1_tuned"
      ]
    },
    {
      "cell_type": "code",
      "execution_count": 175,
      "metadata": {
        "colab": {
          "base_uri": "https://localhost:8080/"
        },
        "id": "fUTQw9GfhTZL",
        "outputId": "9ebc3c50-dcbf-4f43-ee98-58052a190d41"
      },
      "outputs": [
        {
          "output_type": "stream",
          "name": "stdout",
          "text": [
            "Recall on test set\n",
            "0.7\n",
            "\n",
            "Precision on test set\n",
            "0.45161290322580644\n",
            "\n",
            "Accuracy on test set\n",
            "0.54\n"
          ]
        }
      ],
      "source": [
        "# Checking recall score on test set\n",
        "print(\"Recall on test set\")\n",
        "print(recall_score(y_test, model.predict(X_test)))\n",
        "print(\"\")\n",
        "\n",
        "# Checking precision score on test set\n",
        "print(\"Precision on test set\")\n",
        "print(precision_score(y_test, model.predict(X_test)))\n",
        "print(\"\")\n",
        "\n",
        "# Checking accuracy score on test set\n",
        "print(\"Accuracy on test set\")\n",
        "print(accuracy_score(y_test, model.predict(X_test)))"
      ]
    }
  ],
  "metadata": {
    "colab": {
      "provenance": []
    },
    "gpuClass": "standard",
    "kernelspec": {
      "display_name": "Python 3",
      "name": "python3"
    },
    "language_info": {
      "name": "python"
    }
  },
  "nbformat": 4,
  "nbformat_minor": 0
}
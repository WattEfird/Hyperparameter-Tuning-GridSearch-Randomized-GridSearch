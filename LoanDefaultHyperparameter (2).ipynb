{
  "cells": [
    {
      "cell_type": "markdown",
      "metadata": {
        "id": "urru-1cTexGM"
      },
      "source": [
        "## Context\n",
        "\n",
        "Banks incur significant losses due to default in loans. This has led to a tightening up of loan underwriting and has increased loan rejection rates. The need for a better credit risk scoring model is also raised by banks.\n",
        "\n",
        "The CNK bank has collected customer data for the past few years and wants to build a model to predict if a customer coming to purchase a loan is a good customer (will not default) or a bad customer (will default)."
      ]
    },
    {
      "cell_type": "code",
      "execution_count": 84,
      "metadata": {
        "id": "UK2k3Mg-q9Rj"
      },
      "outputs": [],
      "source": [
        "# To help with reading and manipulation of data\n",
        "import numpy as np\n",
        "import pandas as pd\n",
        "\n",
        "# To help with data visualization\n",
        "import matplotlib.pyplot as plt\n",
        "import seaborn as sns\n",
        "\n",
        "# To split the data\n",
        "from sklearn.model_selection import train_test_split\n",
        "\n",
        "# To impute missing values\n",
        "from sklearn.impute import SimpleImputer\n",
        "\n",
        "# To build a Random forest classifier\n",
        "from sklearn.ensemble import RandomForestClassifier\n",
        "\n",
        "# Importing for feature engineering and modeling\n",
        "from sklearn.base import BaseEstimator, TransformerMixin\n",
        "from sklearn.preprocessing import OneHotEncoder, MinMaxScaler\n",
        "from sklearn.pipeline import Pipeline, FeatureUnion\n",
        "from sklearn.compose import ColumnTransformer\n",
        "\n",
        "# To tune a model\n",
        "from sklearn.model_selection import GridSearchCV\n",
        "from sklearn.model_selection import RandomizedSearchCV\n",
        "\n",
        "# To get different performance metrics\n",
        "import sklearn.metrics as metrics\n",
        "from sklearn.metrics import (\n",
        "    classification_report,\n",
        "    confusion_matrix,\n",
        "    recall_score,\n",
        "    accuracy_score,\n",
        "    precision_score,\n",
        "    f1_score,\n",
        ")\n",
        "\n",
        "# To suppress warnings\n",
        "import warnings\n",
        "\n",
        "warnings.filterwarnings(\"ignore\")"
      ]
    },
    {
      "cell_type": "code",
      "execution_count": 85,
      "metadata": {
        "colab": {
          "base_uri": "https://localhost:8080/"
        },
        "id": "9siRbms3w2fH",
        "outputId": "370bc0bc-c61c-492f-f15c-ca08d6e544a1"
      },
      "outputs": [
        {
          "output_type": "stream",
          "name": "stdout",
          "text": [
            "Drive already mounted at /content/drive; to attempt to forcibly remount, call drive.mount(\"/content/drive\", force_remount=True).\n"
          ]
        }
      ],
      "source": [
        "from google.colab import drive\n",
        "drive.mount('/content/drive')"
      ]
    },
    {
      "cell_type": "code",
      "execution_count": 86,
      "metadata": {
        "id": "SxWxMOHXS2sV"
      },
      "outputs": [],
      "source": [
        "df = pd.read_csv(\"/content/drive/MyDrive/DSBA/Loan payments data.csv\")"
      ]
    },
    {
      "cell_type": "code",
      "execution_count": 87,
      "metadata": {
        "id": "OxNrrzU3TCi7"
      },
      "outputs": [],
      "source": [
        "data = df.copy()"
      ]
    },
    {
      "cell_type": "code",
      "execution_count": 88,
      "metadata": {
        "colab": {
          "base_uri": "https://localhost:8080/",
          "height": 206
        },
        "id": "QxTOFKJdTEmS",
        "outputId": "bfbf9714-0815-43f7-dc4a-1a7c83ab27eb"
      },
      "outputs": [
        {
          "output_type": "execute_result",
          "data": {
            "text/plain": [
              "       Loan_ID loan_status  Principal  terms effective_date   due_date  \\\n",
              "0  xqd20166231     PAIDOFF       1000     30       9/8/2016  10/7/2016   \n",
              "1  xqd20168902     PAIDOFF       1000     30       9/8/2016  10/7/2016   \n",
              "2  xqd20160003     PAIDOFF       1000     30       9/8/2016  10/7/2016   \n",
              "3  xqd20160004     PAIDOFF       1000     15       9/8/2016  9/22/2016   \n",
              "4  xqd20160005     PAIDOFF       1000     30       9/9/2016  10/8/2016   \n",
              "\n",
              "     paid_off_time  past_due_days  age             education  Gender  \n",
              "0  9/14/2016 19:31            NaN   45  High School or Below    male  \n",
              "1   10/7/2016 9:00            NaN   50              Bechalor  female  \n",
              "2  9/25/2016 16:58            NaN   33              Bechalor  female  \n",
              "3  9/22/2016 20:00            NaN   27               college    male  \n",
              "4  9/23/2016 21:36            NaN   28               college  female  "
            ],
            "text/html": [
              "\n",
              "  <div id=\"df-1e67bca6-a331-46dc-aa50-3a4673bd6409\">\n",
              "    <div class=\"colab-df-container\">\n",
              "      <div>\n",
              "<style scoped>\n",
              "    .dataframe tbody tr th:only-of-type {\n",
              "        vertical-align: middle;\n",
              "    }\n",
              "\n",
              "    .dataframe tbody tr th {\n",
              "        vertical-align: top;\n",
              "    }\n",
              "\n",
              "    .dataframe thead th {\n",
              "        text-align: right;\n",
              "    }\n",
              "</style>\n",
              "<table border=\"1\" class=\"dataframe\">\n",
              "  <thead>\n",
              "    <tr style=\"text-align: right;\">\n",
              "      <th></th>\n",
              "      <th>Loan_ID</th>\n",
              "      <th>loan_status</th>\n",
              "      <th>Principal</th>\n",
              "      <th>terms</th>\n",
              "      <th>effective_date</th>\n",
              "      <th>due_date</th>\n",
              "      <th>paid_off_time</th>\n",
              "      <th>past_due_days</th>\n",
              "      <th>age</th>\n",
              "      <th>education</th>\n",
              "      <th>Gender</th>\n",
              "    </tr>\n",
              "  </thead>\n",
              "  <tbody>\n",
              "    <tr>\n",
              "      <th>0</th>\n",
              "      <td>xqd20166231</td>\n",
              "      <td>PAIDOFF</td>\n",
              "      <td>1000</td>\n",
              "      <td>30</td>\n",
              "      <td>9/8/2016</td>\n",
              "      <td>10/7/2016</td>\n",
              "      <td>9/14/2016 19:31</td>\n",
              "      <td>NaN</td>\n",
              "      <td>45</td>\n",
              "      <td>High School or Below</td>\n",
              "      <td>male</td>\n",
              "    </tr>\n",
              "    <tr>\n",
              "      <th>1</th>\n",
              "      <td>xqd20168902</td>\n",
              "      <td>PAIDOFF</td>\n",
              "      <td>1000</td>\n",
              "      <td>30</td>\n",
              "      <td>9/8/2016</td>\n",
              "      <td>10/7/2016</td>\n",
              "      <td>10/7/2016 9:00</td>\n",
              "      <td>NaN</td>\n",
              "      <td>50</td>\n",
              "      <td>Bechalor</td>\n",
              "      <td>female</td>\n",
              "    </tr>\n",
              "    <tr>\n",
              "      <th>2</th>\n",
              "      <td>xqd20160003</td>\n",
              "      <td>PAIDOFF</td>\n",
              "      <td>1000</td>\n",
              "      <td>30</td>\n",
              "      <td>9/8/2016</td>\n",
              "      <td>10/7/2016</td>\n",
              "      <td>9/25/2016 16:58</td>\n",
              "      <td>NaN</td>\n",
              "      <td>33</td>\n",
              "      <td>Bechalor</td>\n",
              "      <td>female</td>\n",
              "    </tr>\n",
              "    <tr>\n",
              "      <th>3</th>\n",
              "      <td>xqd20160004</td>\n",
              "      <td>PAIDOFF</td>\n",
              "      <td>1000</td>\n",
              "      <td>15</td>\n",
              "      <td>9/8/2016</td>\n",
              "      <td>9/22/2016</td>\n",
              "      <td>9/22/2016 20:00</td>\n",
              "      <td>NaN</td>\n",
              "      <td>27</td>\n",
              "      <td>college</td>\n",
              "      <td>male</td>\n",
              "    </tr>\n",
              "    <tr>\n",
              "      <th>4</th>\n",
              "      <td>xqd20160005</td>\n",
              "      <td>PAIDOFF</td>\n",
              "      <td>1000</td>\n",
              "      <td>30</td>\n",
              "      <td>9/9/2016</td>\n",
              "      <td>10/8/2016</td>\n",
              "      <td>9/23/2016 21:36</td>\n",
              "      <td>NaN</td>\n",
              "      <td>28</td>\n",
              "      <td>college</td>\n",
              "      <td>female</td>\n",
              "    </tr>\n",
              "  </tbody>\n",
              "</table>\n",
              "</div>\n",
              "      <button class=\"colab-df-convert\" onclick=\"convertToInteractive('df-1e67bca6-a331-46dc-aa50-3a4673bd6409')\"\n",
              "              title=\"Convert this dataframe to an interactive table.\"\n",
              "              style=\"display:none;\">\n",
              "        \n",
              "  <svg xmlns=\"http://www.w3.org/2000/svg\" height=\"24px\"viewBox=\"0 0 24 24\"\n",
              "       width=\"24px\">\n",
              "    <path d=\"M0 0h24v24H0V0z\" fill=\"none\"/>\n",
              "    <path d=\"M18.56 5.44l.94 2.06.94-2.06 2.06-.94-2.06-.94-.94-2.06-.94 2.06-2.06.94zm-11 1L8.5 8.5l.94-2.06 2.06-.94-2.06-.94L8.5 2.5l-.94 2.06-2.06.94zm10 10l.94 2.06.94-2.06 2.06-.94-2.06-.94-.94-2.06-.94 2.06-2.06.94z\"/><path d=\"M17.41 7.96l-1.37-1.37c-.4-.4-.92-.59-1.43-.59-.52 0-1.04.2-1.43.59L10.3 9.45l-7.72 7.72c-.78.78-.78 2.05 0 2.83L4 21.41c.39.39.9.59 1.41.59.51 0 1.02-.2 1.41-.59l7.78-7.78 2.81-2.81c.8-.78.8-2.07 0-2.86zM5.41 20L4 18.59l7.72-7.72 1.47 1.35L5.41 20z\"/>\n",
              "  </svg>\n",
              "      </button>\n",
              "      \n",
              "  <style>\n",
              "    .colab-df-container {\n",
              "      display:flex;\n",
              "      flex-wrap:wrap;\n",
              "      gap: 12px;\n",
              "    }\n",
              "\n",
              "    .colab-df-convert {\n",
              "      background-color: #E8F0FE;\n",
              "      border: none;\n",
              "      border-radius: 50%;\n",
              "      cursor: pointer;\n",
              "      display: none;\n",
              "      fill: #1967D2;\n",
              "      height: 32px;\n",
              "      padding: 0 0 0 0;\n",
              "      width: 32px;\n",
              "    }\n",
              "\n",
              "    .colab-df-convert:hover {\n",
              "      background-color: #E2EBFA;\n",
              "      box-shadow: 0px 1px 2px rgba(60, 64, 67, 0.3), 0px 1px 3px 1px rgba(60, 64, 67, 0.15);\n",
              "      fill: #174EA6;\n",
              "    }\n",
              "\n",
              "    [theme=dark] .colab-df-convert {\n",
              "      background-color: #3B4455;\n",
              "      fill: #D2E3FC;\n",
              "    }\n",
              "\n",
              "    [theme=dark] .colab-df-convert:hover {\n",
              "      background-color: #434B5C;\n",
              "      box-shadow: 0px 1px 3px 1px rgba(0, 0, 0, 0.15);\n",
              "      filter: drop-shadow(0px 1px 2px rgba(0, 0, 0, 0.3));\n",
              "      fill: #FFFFFF;\n",
              "    }\n",
              "  </style>\n",
              "\n",
              "      <script>\n",
              "        const buttonEl =\n",
              "          document.querySelector('#df-1e67bca6-a331-46dc-aa50-3a4673bd6409 button.colab-df-convert');\n",
              "        buttonEl.style.display =\n",
              "          google.colab.kernel.accessAllowed ? 'block' : 'none';\n",
              "\n",
              "        async function convertToInteractive(key) {\n",
              "          const element = document.querySelector('#df-1e67bca6-a331-46dc-aa50-3a4673bd6409');\n",
              "          const dataTable =\n",
              "            await google.colab.kernel.invokeFunction('convertToInteractive',\n",
              "                                                     [key], {});\n",
              "          if (!dataTable) return;\n",
              "\n",
              "          const docLinkHtml = 'Like what you see? Visit the ' +\n",
              "            '<a target=\"_blank\" href=https://colab.research.google.com/notebooks/data_table.ipynb>data table notebook</a>'\n",
              "            + ' to learn more about interactive tables.';\n",
              "          element.innerHTML = '';\n",
              "          dataTable['output_type'] = 'display_data';\n",
              "          await google.colab.output.renderOutput(dataTable, element);\n",
              "          const docLink = document.createElement('div');\n",
              "          docLink.innerHTML = docLinkHtml;\n",
              "          element.appendChild(docLink);\n",
              "        }\n",
              "      </script>\n",
              "    </div>\n",
              "  </div>\n",
              "  "
            ]
          },
          "metadata": {},
          "execution_count": 88
        }
      ],
      "source": [
        "data.head()"
      ]
    },
    {
      "cell_type": "code",
      "execution_count": 89,
      "metadata": {
        "colab": {
          "base_uri": "https://localhost:8080/"
        },
        "id": "YKN2lf-OTFwB",
        "outputId": "66cea006-084e-4b2f-f52c-49fe669499cf"
      },
      "outputs": [
        {
          "output_type": "stream",
          "name": "stdout",
          "text": [
            "<class 'pandas.core.frame.DataFrame'>\n",
            "RangeIndex: 500 entries, 0 to 499\n",
            "Data columns (total 11 columns):\n",
            " #   Column          Non-Null Count  Dtype  \n",
            "---  ------          --------------  -----  \n",
            " 0   Loan_ID         500 non-null    object \n",
            " 1   loan_status     500 non-null    object \n",
            " 2   Principal       500 non-null    int64  \n",
            " 3   terms           500 non-null    int64  \n",
            " 4   effective_date  500 non-null    object \n",
            " 5   due_date        500 non-null    object \n",
            " 6   paid_off_time   400 non-null    object \n",
            " 7   past_due_days   200 non-null    float64\n",
            " 8   age             500 non-null    int64  \n",
            " 9   education       500 non-null    object \n",
            " 10  Gender          500 non-null    object \n",
            "dtypes: float64(1), int64(3), object(7)\n",
            "memory usage: 43.1+ KB\n"
          ]
        }
      ],
      "source": [
        "data.info()"
      ]
    },
    {
      "cell_type": "code",
      "source": [
        "data.drop([\"Loan_ID\"], axis=1, inplace=True)"
      ],
      "metadata": {
        "id": "2BkUjxVWj2nV"
      },
      "execution_count": 90,
      "outputs": []
    },
    {
      "cell_type": "code",
      "source": [
        "data[\"paid_off_time\"] = pd.to_datetime(data[\"paid_off_time\"])\n",
        "data.head()\n",
        "\n",
        "data[\"due_date\"] = pd.to_datetime(data[\"due_date\"])\n",
        "\n",
        "data[\"effective_date\"] = pd.to_datetime(data[\"effective_date\"])"
      ],
      "metadata": {
        "id": "mvN4aeAqH12k"
      },
      "execution_count": 92,
      "outputs": []
    },
    {
      "cell_type": "code",
      "source": [
        "import datetime as dt\n",
        "data[\"paid_off_month\"] = data[\"paid_off_time\"].dt.month\n",
        "data[\"paid_off_hour\"] = data[\"paid_off_time\"].dt.hour\n",
        "data[\"paid_off_dow\"] = data[\"paid_off_time\"].dt.dayofweek\n",
        "\n",
        "data[\"due_date_month\"] = data[\"due_date\"].dt.month \n",
        "data[\"due_date_dow\"] = data[\"due_date\"].dt.dayofweek\n",
        "\n",
        "data[\"effective_date_month\"] = data[\"effective_date\"].dt.month\n",
        "data[\"effective_date_dow\"] = data[\"effective_date\"].dt.dayofweek\n"
      ],
      "metadata": {
        "id": "jUCCz7JQJE56"
      },
      "execution_count": 93,
      "outputs": []
    },
    {
      "cell_type": "code",
      "source": [
        "data.head()"
      ],
      "metadata": {
        "colab": {
          "base_uri": "https://localhost:8080/",
          "height": 374
        },
        "id": "r28h2U3UJoXU",
        "outputId": "98ecde78-5744-45f9-f986-0d725661bfa3"
      },
      "execution_count": 94,
      "outputs": [
        {
          "output_type": "execute_result",
          "data": {
            "text/plain": [
              "  loan_status  Principal  terms effective_date   due_date       paid_off_time  \\\n",
              "0     PAIDOFF       1000     30     2016-09-08 2016-10-07 2016-09-14 19:31:00   \n",
              "1     PAIDOFF       1000     30     2016-09-08 2016-10-07 2016-10-07 09:00:00   \n",
              "2     PAIDOFF       1000     30     2016-09-08 2016-10-07 2016-09-25 16:58:00   \n",
              "3     PAIDOFF       1000     15     2016-09-08 2016-09-22 2016-09-22 20:00:00   \n",
              "4     PAIDOFF       1000     30     2016-09-09 2016-10-08 2016-09-23 21:36:00   \n",
              "\n",
              "   past_due_days  age             education  Gender  paid_off_month  \\\n",
              "0            NaN   45  High School or Below    male             9.0   \n",
              "1            NaN   50              Bechalor  female            10.0   \n",
              "2            NaN   33              Bechalor  female             9.0   \n",
              "3            NaN   27               college    male             9.0   \n",
              "4            NaN   28               college  female             9.0   \n",
              "\n",
              "   paid_off_hour  paid_off_dow  due_date_month  due_date_dow  \\\n",
              "0           19.0           2.0              10             4   \n",
              "1            9.0           4.0              10             4   \n",
              "2           16.0           6.0              10             4   \n",
              "3           20.0           3.0               9             3   \n",
              "4           21.0           4.0              10             5   \n",
              "\n",
              "   effective_date_month  effective_date_dow  \n",
              "0                     9                   3  \n",
              "1                     9                   3  \n",
              "2                     9                   3  \n",
              "3                     9                   3  \n",
              "4                     9                   4  "
            ],
            "text/html": [
              "\n",
              "  <div id=\"df-3e2f1f53-f8da-47d1-9fa5-da64f4422144\">\n",
              "    <div class=\"colab-df-container\">\n",
              "      <div>\n",
              "<style scoped>\n",
              "    .dataframe tbody tr th:only-of-type {\n",
              "        vertical-align: middle;\n",
              "    }\n",
              "\n",
              "    .dataframe tbody tr th {\n",
              "        vertical-align: top;\n",
              "    }\n",
              "\n",
              "    .dataframe thead th {\n",
              "        text-align: right;\n",
              "    }\n",
              "</style>\n",
              "<table border=\"1\" class=\"dataframe\">\n",
              "  <thead>\n",
              "    <tr style=\"text-align: right;\">\n",
              "      <th></th>\n",
              "      <th>loan_status</th>\n",
              "      <th>Principal</th>\n",
              "      <th>terms</th>\n",
              "      <th>effective_date</th>\n",
              "      <th>due_date</th>\n",
              "      <th>paid_off_time</th>\n",
              "      <th>past_due_days</th>\n",
              "      <th>age</th>\n",
              "      <th>education</th>\n",
              "      <th>Gender</th>\n",
              "      <th>paid_off_month</th>\n",
              "      <th>paid_off_hour</th>\n",
              "      <th>paid_off_dow</th>\n",
              "      <th>due_date_month</th>\n",
              "      <th>due_date_dow</th>\n",
              "      <th>effective_date_month</th>\n",
              "      <th>effective_date_dow</th>\n",
              "    </tr>\n",
              "  </thead>\n",
              "  <tbody>\n",
              "    <tr>\n",
              "      <th>0</th>\n",
              "      <td>PAIDOFF</td>\n",
              "      <td>1000</td>\n",
              "      <td>30</td>\n",
              "      <td>2016-09-08</td>\n",
              "      <td>2016-10-07</td>\n",
              "      <td>2016-09-14 19:31:00</td>\n",
              "      <td>NaN</td>\n",
              "      <td>45</td>\n",
              "      <td>High School or Below</td>\n",
              "      <td>male</td>\n",
              "      <td>9.0</td>\n",
              "      <td>19.0</td>\n",
              "      <td>2.0</td>\n",
              "      <td>10</td>\n",
              "      <td>4</td>\n",
              "      <td>9</td>\n",
              "      <td>3</td>\n",
              "    </tr>\n",
              "    <tr>\n",
              "      <th>1</th>\n",
              "      <td>PAIDOFF</td>\n",
              "      <td>1000</td>\n",
              "      <td>30</td>\n",
              "      <td>2016-09-08</td>\n",
              "      <td>2016-10-07</td>\n",
              "      <td>2016-10-07 09:00:00</td>\n",
              "      <td>NaN</td>\n",
              "      <td>50</td>\n",
              "      <td>Bechalor</td>\n",
              "      <td>female</td>\n",
              "      <td>10.0</td>\n",
              "      <td>9.0</td>\n",
              "      <td>4.0</td>\n",
              "      <td>10</td>\n",
              "      <td>4</td>\n",
              "      <td>9</td>\n",
              "      <td>3</td>\n",
              "    </tr>\n",
              "    <tr>\n",
              "      <th>2</th>\n",
              "      <td>PAIDOFF</td>\n",
              "      <td>1000</td>\n",
              "      <td>30</td>\n",
              "      <td>2016-09-08</td>\n",
              "      <td>2016-10-07</td>\n",
              "      <td>2016-09-25 16:58:00</td>\n",
              "      <td>NaN</td>\n",
              "      <td>33</td>\n",
              "      <td>Bechalor</td>\n",
              "      <td>female</td>\n",
              "      <td>9.0</td>\n",
              "      <td>16.0</td>\n",
              "      <td>6.0</td>\n",
              "      <td>10</td>\n",
              "      <td>4</td>\n",
              "      <td>9</td>\n",
              "      <td>3</td>\n",
              "    </tr>\n",
              "    <tr>\n",
              "      <th>3</th>\n",
              "      <td>PAIDOFF</td>\n",
              "      <td>1000</td>\n",
              "      <td>15</td>\n",
              "      <td>2016-09-08</td>\n",
              "      <td>2016-09-22</td>\n",
              "      <td>2016-09-22 20:00:00</td>\n",
              "      <td>NaN</td>\n",
              "      <td>27</td>\n",
              "      <td>college</td>\n",
              "      <td>male</td>\n",
              "      <td>9.0</td>\n",
              "      <td>20.0</td>\n",
              "      <td>3.0</td>\n",
              "      <td>9</td>\n",
              "      <td>3</td>\n",
              "      <td>9</td>\n",
              "      <td>3</td>\n",
              "    </tr>\n",
              "    <tr>\n",
              "      <th>4</th>\n",
              "      <td>PAIDOFF</td>\n",
              "      <td>1000</td>\n",
              "      <td>30</td>\n",
              "      <td>2016-09-09</td>\n",
              "      <td>2016-10-08</td>\n",
              "      <td>2016-09-23 21:36:00</td>\n",
              "      <td>NaN</td>\n",
              "      <td>28</td>\n",
              "      <td>college</td>\n",
              "      <td>female</td>\n",
              "      <td>9.0</td>\n",
              "      <td>21.0</td>\n",
              "      <td>4.0</td>\n",
              "      <td>10</td>\n",
              "      <td>5</td>\n",
              "      <td>9</td>\n",
              "      <td>4</td>\n",
              "    </tr>\n",
              "  </tbody>\n",
              "</table>\n",
              "</div>\n",
              "      <button class=\"colab-df-convert\" onclick=\"convertToInteractive('df-3e2f1f53-f8da-47d1-9fa5-da64f4422144')\"\n",
              "              title=\"Convert this dataframe to an interactive table.\"\n",
              "              style=\"display:none;\">\n",
              "        \n",
              "  <svg xmlns=\"http://www.w3.org/2000/svg\" height=\"24px\"viewBox=\"0 0 24 24\"\n",
              "       width=\"24px\">\n",
              "    <path d=\"M0 0h24v24H0V0z\" fill=\"none\"/>\n",
              "    <path d=\"M18.56 5.44l.94 2.06.94-2.06 2.06-.94-2.06-.94-.94-2.06-.94 2.06-2.06.94zm-11 1L8.5 8.5l.94-2.06 2.06-.94-2.06-.94L8.5 2.5l-.94 2.06-2.06.94zm10 10l.94 2.06.94-2.06 2.06-.94-2.06-.94-.94-2.06-.94 2.06-2.06.94z\"/><path d=\"M17.41 7.96l-1.37-1.37c-.4-.4-.92-.59-1.43-.59-.52 0-1.04.2-1.43.59L10.3 9.45l-7.72 7.72c-.78.78-.78 2.05 0 2.83L4 21.41c.39.39.9.59 1.41.59.51 0 1.02-.2 1.41-.59l7.78-7.78 2.81-2.81c.8-.78.8-2.07 0-2.86zM5.41 20L4 18.59l7.72-7.72 1.47 1.35L5.41 20z\"/>\n",
              "  </svg>\n",
              "      </button>\n",
              "      \n",
              "  <style>\n",
              "    .colab-df-container {\n",
              "      display:flex;\n",
              "      flex-wrap:wrap;\n",
              "      gap: 12px;\n",
              "    }\n",
              "\n",
              "    .colab-df-convert {\n",
              "      background-color: #E8F0FE;\n",
              "      border: none;\n",
              "      border-radius: 50%;\n",
              "      cursor: pointer;\n",
              "      display: none;\n",
              "      fill: #1967D2;\n",
              "      height: 32px;\n",
              "      padding: 0 0 0 0;\n",
              "      width: 32px;\n",
              "    }\n",
              "\n",
              "    .colab-df-convert:hover {\n",
              "      background-color: #E2EBFA;\n",
              "      box-shadow: 0px 1px 2px rgba(60, 64, 67, 0.3), 0px 1px 3px 1px rgba(60, 64, 67, 0.15);\n",
              "      fill: #174EA6;\n",
              "    }\n",
              "\n",
              "    [theme=dark] .colab-df-convert {\n",
              "      background-color: #3B4455;\n",
              "      fill: #D2E3FC;\n",
              "    }\n",
              "\n",
              "    [theme=dark] .colab-df-convert:hover {\n",
              "      background-color: #434B5C;\n",
              "      box-shadow: 0px 1px 3px 1px rgba(0, 0, 0, 0.15);\n",
              "      filter: drop-shadow(0px 1px 2px rgba(0, 0, 0, 0.3));\n",
              "      fill: #FFFFFF;\n",
              "    }\n",
              "  </style>\n",
              "\n",
              "      <script>\n",
              "        const buttonEl =\n",
              "          document.querySelector('#df-3e2f1f53-f8da-47d1-9fa5-da64f4422144 button.colab-df-convert');\n",
              "        buttonEl.style.display =\n",
              "          google.colab.kernel.accessAllowed ? 'block' : 'none';\n",
              "\n",
              "        async function convertToInteractive(key) {\n",
              "          const element = document.querySelector('#df-3e2f1f53-f8da-47d1-9fa5-da64f4422144');\n",
              "          const dataTable =\n",
              "            await google.colab.kernel.invokeFunction('convertToInteractive',\n",
              "                                                     [key], {});\n",
              "          if (!dataTable) return;\n",
              "\n",
              "          const docLinkHtml = 'Like what you see? Visit the ' +\n",
              "            '<a target=\"_blank\" href=https://colab.research.google.com/notebooks/data_table.ipynb>data table notebook</a>'\n",
              "            + ' to learn more about interactive tables.';\n",
              "          element.innerHTML = '';\n",
              "          dataTable['output_type'] = 'display_data';\n",
              "          await google.colab.output.renderOutput(dataTable, element);\n",
              "          const docLink = document.createElement('div');\n",
              "          docLink.innerHTML = docLinkHtml;\n",
              "          element.appendChild(docLink);\n",
              "        }\n",
              "      </script>\n",
              "    </div>\n",
              "  </div>\n",
              "  "
            ]
          },
          "metadata": {},
          "execution_count": 94
        }
      ]
    },
    {
      "cell_type": "code",
      "source": [
        "data.info()"
      ],
      "metadata": {
        "colab": {
          "base_uri": "https://localhost:8080/"
        },
        "id": "kdFHxM51guIB",
        "outputId": "0ba6c083-8a80-4695-a8dd-99b4f9c1f2dd"
      },
      "execution_count": 95,
      "outputs": [
        {
          "output_type": "stream",
          "name": "stdout",
          "text": [
            "<class 'pandas.core.frame.DataFrame'>\n",
            "RangeIndex: 500 entries, 0 to 499\n",
            "Data columns (total 17 columns):\n",
            " #   Column                Non-Null Count  Dtype         \n",
            "---  ------                --------------  -----         \n",
            " 0   loan_status           500 non-null    object        \n",
            " 1   Principal             500 non-null    int64         \n",
            " 2   terms                 500 non-null    int64         \n",
            " 3   effective_date        500 non-null    datetime64[ns]\n",
            " 4   due_date              500 non-null    datetime64[ns]\n",
            " 5   paid_off_time         400 non-null    datetime64[ns]\n",
            " 6   past_due_days         200 non-null    float64       \n",
            " 7   age                   500 non-null    int64         \n",
            " 8   education             500 non-null    object        \n",
            " 9   Gender                500 non-null    object        \n",
            " 10  paid_off_month        400 non-null    float64       \n",
            " 11  paid_off_hour         400 non-null    float64       \n",
            " 12  paid_off_dow          400 non-null    float64       \n",
            " 13  due_date_month        500 non-null    int64         \n",
            " 14  due_date_dow          500 non-null    int64         \n",
            " 15  effective_date_month  500 non-null    int64         \n",
            " 16  effective_date_dow    500 non-null    int64         \n",
            "dtypes: datetime64[ns](3), float64(4), int64(7), object(3)\n",
            "memory usage: 66.5+ KB\n"
          ]
        }
      ]
    },
    {
      "cell_type": "code",
      "source": [
        "data.drop([\"effective_date\", \"due_date\", \"paid_off_time\"], axis=1, inplace=True)"
      ],
      "metadata": {
        "id": "IKjobWVZg83a"
      },
      "execution_count": 96,
      "outputs": []
    },
    {
      "cell_type": "code",
      "source": [
        "data[\"education\"].replace(\"Bechalor\", \"Bachelor\")"
      ],
      "metadata": {
        "colab": {
          "base_uri": "https://localhost:8080/"
        },
        "id": "Is4_iVo-eV3S",
        "outputId": "7af8abab-f966-4971-d8d1-2ea4d1ee2d13"
      },
      "execution_count": 97,
      "outputs": [
        {
          "output_type": "execute_result",
          "data": {
            "text/plain": [
              "0      High School or Below\n",
              "1                  Bachelor\n",
              "2                  Bachelor\n",
              "3                   college\n",
              "4                   college\n",
              "               ...         \n",
              "495    High School or Below\n",
              "496    High School or Below\n",
              "497                 college\n",
              "498                 college\n",
              "499    High School or Below\n",
              "Name: education, Length: 500, dtype: object"
            ]
          },
          "metadata": {},
          "execution_count": 97
        }
      ]
    },
    {
      "cell_type": "code",
      "source": [
        "data.dtypes"
      ],
      "metadata": {
        "colab": {
          "base_uri": "https://localhost:8080/"
        },
        "id": "qsVNchCehRyh",
        "outputId": "5d9d5768-38c0-4439-bbe0-f0c3af3127d4"
      },
      "execution_count": 98,
      "outputs": [
        {
          "output_type": "execute_result",
          "data": {
            "text/plain": [
              "loan_status              object\n",
              "Principal                 int64\n",
              "terms                     int64\n",
              "past_due_days           float64\n",
              "age                       int64\n",
              "education                object\n",
              "Gender                   object\n",
              "paid_off_month          float64\n",
              "paid_off_hour           float64\n",
              "paid_off_dow            float64\n",
              "due_date_month            int64\n",
              "due_date_dow              int64\n",
              "effective_date_month      int64\n",
              "effective_date_dow        int64\n",
              "dtype: object"
            ]
          },
          "metadata": {},
          "execution_count": 98
        }
      ]
    },
    {
      "cell_type": "code",
      "execution_count": 99,
      "metadata": {
        "id": "KhVGV6swcjKe"
      },
      "outputs": [],
      "source": [
        "data[\"loan_status\"] = data[\"loan_status\"].astype(\"category\")\n",
        "data[\"education\"] = data[\"education\"].astype(\"category\")\n",
        "data[\"Gender\"] = data[\"Gender\"].astype(\"category\")"
      ]
    },
    {
      "cell_type": "code",
      "execution_count": 100,
      "metadata": {
        "colab": {
          "base_uri": "https://localhost:8080/"
        },
        "id": "W5Dyj4vAVfPn",
        "outputId": "f8571ea5-b560-42cc-a3d8-227a90b383ea"
      },
      "outputs": [
        {
          "output_type": "execute_result",
          "data": {
            "text/plain": [
              "loan_status               0\n",
              "Principal                 0\n",
              "terms                     0\n",
              "past_due_days           300\n",
              "age                       0\n",
              "education                 0\n",
              "Gender                    0\n",
              "paid_off_month          100\n",
              "paid_off_hour           100\n",
              "paid_off_dow            100\n",
              "due_date_month            0\n",
              "due_date_dow              0\n",
              "effective_date_month      0\n",
              "effective_date_dow        0\n",
              "dtype: int64"
            ]
          },
          "metadata": {},
          "execution_count": 100
        }
      ],
      "source": [
        "data.isnull().sum()"
      ]
    },
    {
      "cell_type": "code",
      "execution_count": 101,
      "metadata": {
        "colab": {
          "base_uri": "https://localhost:8080/"
        },
        "id": "fdOPsD3JT6Ah",
        "outputId": "7bb14964-9b31-47e9-b640-06328962e031"
      },
      "outputs": [
        {
          "output_type": "execute_result",
          "data": {
            "text/plain": [
              "PAIDOFF               0.6\n",
              "COLLECTION            0.2\n",
              "COLLECTION_PAIDOFF    0.2\n",
              "Name: loan_status, dtype: float64"
            ]
          },
          "metadata": {},
          "execution_count": 101
        }
      ],
      "source": [
        "data[\"loan_status\"].value_counts(1)"
      ]
    },
    {
      "cell_type": "code",
      "source": [
        "data[\"loan_status\"] = data[\"loan_status\"].map({\"PAIDOFF\":0, \"COLLECTION\":1, \"COLLECTION_PAIDOFF\":1})"
      ],
      "metadata": {
        "id": "VTyYzX16vb6V"
      },
      "execution_count": 102,
      "outputs": []
    },
    {
      "cell_type": "code",
      "source": [
        "data.iloc[:,[3,7,8,9]]"
      ],
      "metadata": {
        "colab": {
          "base_uri": "https://localhost:8080/",
          "height": 423
        },
        "id": "JkLwlYSSiVK4",
        "outputId": "b3faa6dc-ec05-4e4b-a5b3-59158130298b"
      },
      "execution_count": 103,
      "outputs": [
        {
          "output_type": "execute_result",
          "data": {
            "text/plain": [
              "     past_due_days  paid_off_month  paid_off_hour  paid_off_dow\n",
              "0              NaN             9.0           19.0           2.0\n",
              "1              NaN            10.0            9.0           4.0\n",
              "2              NaN             9.0           16.0           6.0\n",
              "3              NaN             9.0           20.0           3.0\n",
              "4              NaN             9.0           21.0           4.0\n",
              "..             ...             ...            ...           ...\n",
              "495            3.0            10.0           19.0           4.0\n",
              "496           14.0            10.0           20.0           0.0\n",
              "497            3.0             9.0           11.0           3.0\n",
              "498            1.0            11.0           22.0           4.0\n",
              "499            8.0            10.0           11.0           2.0\n",
              "\n",
              "[500 rows x 4 columns]"
            ],
            "text/html": [
              "\n",
              "  <div id=\"df-adafedd7-fc82-4441-9496-65eb02be3bbd\">\n",
              "    <div class=\"colab-df-container\">\n",
              "      <div>\n",
              "<style scoped>\n",
              "    .dataframe tbody tr th:only-of-type {\n",
              "        vertical-align: middle;\n",
              "    }\n",
              "\n",
              "    .dataframe tbody tr th {\n",
              "        vertical-align: top;\n",
              "    }\n",
              "\n",
              "    .dataframe thead th {\n",
              "        text-align: right;\n",
              "    }\n",
              "</style>\n",
              "<table border=\"1\" class=\"dataframe\">\n",
              "  <thead>\n",
              "    <tr style=\"text-align: right;\">\n",
              "      <th></th>\n",
              "      <th>past_due_days</th>\n",
              "      <th>paid_off_month</th>\n",
              "      <th>paid_off_hour</th>\n",
              "      <th>paid_off_dow</th>\n",
              "    </tr>\n",
              "  </thead>\n",
              "  <tbody>\n",
              "    <tr>\n",
              "      <th>0</th>\n",
              "      <td>NaN</td>\n",
              "      <td>9.0</td>\n",
              "      <td>19.0</td>\n",
              "      <td>2.0</td>\n",
              "    </tr>\n",
              "    <tr>\n",
              "      <th>1</th>\n",
              "      <td>NaN</td>\n",
              "      <td>10.0</td>\n",
              "      <td>9.0</td>\n",
              "      <td>4.0</td>\n",
              "    </tr>\n",
              "    <tr>\n",
              "      <th>2</th>\n",
              "      <td>NaN</td>\n",
              "      <td>9.0</td>\n",
              "      <td>16.0</td>\n",
              "      <td>6.0</td>\n",
              "    </tr>\n",
              "    <tr>\n",
              "      <th>3</th>\n",
              "      <td>NaN</td>\n",
              "      <td>9.0</td>\n",
              "      <td>20.0</td>\n",
              "      <td>3.0</td>\n",
              "    </tr>\n",
              "    <tr>\n",
              "      <th>4</th>\n",
              "      <td>NaN</td>\n",
              "      <td>9.0</td>\n",
              "      <td>21.0</td>\n",
              "      <td>4.0</td>\n",
              "    </tr>\n",
              "    <tr>\n",
              "      <th>...</th>\n",
              "      <td>...</td>\n",
              "      <td>...</td>\n",
              "      <td>...</td>\n",
              "      <td>...</td>\n",
              "    </tr>\n",
              "    <tr>\n",
              "      <th>495</th>\n",
              "      <td>3.0</td>\n",
              "      <td>10.0</td>\n",
              "      <td>19.0</td>\n",
              "      <td>4.0</td>\n",
              "    </tr>\n",
              "    <tr>\n",
              "      <th>496</th>\n",
              "      <td>14.0</td>\n",
              "      <td>10.0</td>\n",
              "      <td>20.0</td>\n",
              "      <td>0.0</td>\n",
              "    </tr>\n",
              "    <tr>\n",
              "      <th>497</th>\n",
              "      <td>3.0</td>\n",
              "      <td>9.0</td>\n",
              "      <td>11.0</td>\n",
              "      <td>3.0</td>\n",
              "    </tr>\n",
              "    <tr>\n",
              "      <th>498</th>\n",
              "      <td>1.0</td>\n",
              "      <td>11.0</td>\n",
              "      <td>22.0</td>\n",
              "      <td>4.0</td>\n",
              "    </tr>\n",
              "    <tr>\n",
              "      <th>499</th>\n",
              "      <td>8.0</td>\n",
              "      <td>10.0</td>\n",
              "      <td>11.0</td>\n",
              "      <td>2.0</td>\n",
              "    </tr>\n",
              "  </tbody>\n",
              "</table>\n",
              "<p>500 rows × 4 columns</p>\n",
              "</div>\n",
              "      <button class=\"colab-df-convert\" onclick=\"convertToInteractive('df-adafedd7-fc82-4441-9496-65eb02be3bbd')\"\n",
              "              title=\"Convert this dataframe to an interactive table.\"\n",
              "              style=\"display:none;\">\n",
              "        \n",
              "  <svg xmlns=\"http://www.w3.org/2000/svg\" height=\"24px\"viewBox=\"0 0 24 24\"\n",
              "       width=\"24px\">\n",
              "    <path d=\"M0 0h24v24H0V0z\" fill=\"none\"/>\n",
              "    <path d=\"M18.56 5.44l.94 2.06.94-2.06 2.06-.94-2.06-.94-.94-2.06-.94 2.06-2.06.94zm-11 1L8.5 8.5l.94-2.06 2.06-.94-2.06-.94L8.5 2.5l-.94 2.06-2.06.94zm10 10l.94 2.06.94-2.06 2.06-.94-2.06-.94-.94-2.06-.94 2.06-2.06.94z\"/><path d=\"M17.41 7.96l-1.37-1.37c-.4-.4-.92-.59-1.43-.59-.52 0-1.04.2-1.43.59L10.3 9.45l-7.72 7.72c-.78.78-.78 2.05 0 2.83L4 21.41c.39.39.9.59 1.41.59.51 0 1.02-.2 1.41-.59l7.78-7.78 2.81-2.81c.8-.78.8-2.07 0-2.86zM5.41 20L4 18.59l7.72-7.72 1.47 1.35L5.41 20z\"/>\n",
              "  </svg>\n",
              "      </button>\n",
              "      \n",
              "  <style>\n",
              "    .colab-df-container {\n",
              "      display:flex;\n",
              "      flex-wrap:wrap;\n",
              "      gap: 12px;\n",
              "    }\n",
              "\n",
              "    .colab-df-convert {\n",
              "      background-color: #E8F0FE;\n",
              "      border: none;\n",
              "      border-radius: 50%;\n",
              "      cursor: pointer;\n",
              "      display: none;\n",
              "      fill: #1967D2;\n",
              "      height: 32px;\n",
              "      padding: 0 0 0 0;\n",
              "      width: 32px;\n",
              "    }\n",
              "\n",
              "    .colab-df-convert:hover {\n",
              "      background-color: #E2EBFA;\n",
              "      box-shadow: 0px 1px 2px rgba(60, 64, 67, 0.3), 0px 1px 3px 1px rgba(60, 64, 67, 0.15);\n",
              "      fill: #174EA6;\n",
              "    }\n",
              "\n",
              "    [theme=dark] .colab-df-convert {\n",
              "      background-color: #3B4455;\n",
              "      fill: #D2E3FC;\n",
              "    }\n",
              "\n",
              "    [theme=dark] .colab-df-convert:hover {\n",
              "      background-color: #434B5C;\n",
              "      box-shadow: 0px 1px 3px 1px rgba(0, 0, 0, 0.15);\n",
              "      filter: drop-shadow(0px 1px 2px rgba(0, 0, 0, 0.3));\n",
              "      fill: #FFFFFF;\n",
              "    }\n",
              "  </style>\n",
              "\n",
              "      <script>\n",
              "        const buttonEl =\n",
              "          document.querySelector('#df-adafedd7-fc82-4441-9496-65eb02be3bbd button.colab-df-convert');\n",
              "        buttonEl.style.display =\n",
              "          google.colab.kernel.accessAllowed ? 'block' : 'none';\n",
              "\n",
              "        async function convertToInteractive(key) {\n",
              "          const element = document.querySelector('#df-adafedd7-fc82-4441-9496-65eb02be3bbd');\n",
              "          const dataTable =\n",
              "            await google.colab.kernel.invokeFunction('convertToInteractive',\n",
              "                                                     [key], {});\n",
              "          if (!dataTable) return;\n",
              "\n",
              "          const docLinkHtml = 'Like what you see? Visit the ' +\n",
              "            '<a target=\"_blank\" href=https://colab.research.google.com/notebooks/data_table.ipynb>data table notebook</a>'\n",
              "            + ' to learn more about interactive tables.';\n",
              "          element.innerHTML = '';\n",
              "          dataTable['output_type'] = 'display_data';\n",
              "          await google.colab.output.renderOutput(dataTable, element);\n",
              "          const docLink = document.createElement('div');\n",
              "          docLink.innerHTML = docLinkHtml;\n",
              "          element.appendChild(docLink);\n",
              "        }\n",
              "      </script>\n",
              "    </div>\n",
              "  </div>\n",
              "  "
            ]
          },
          "metadata": {},
          "execution_count": 103
        }
      ]
    },
    {
      "cell_type": "code",
      "source": [
        "data.head()"
      ],
      "metadata": {
        "colab": {
          "base_uri": "https://localhost:8080/",
          "height": 305
        },
        "id": "xzFmURibk5E9",
        "outputId": "82a27278-d768-43c5-dc80-ce5bf4616842"
      },
      "execution_count": 104,
      "outputs": [
        {
          "output_type": "execute_result",
          "data": {
            "text/plain": [
              "   loan_status  Principal  terms  past_due_days  age             education  \\\n",
              "0            0       1000     30            NaN   45  High School or Below   \n",
              "1            0       1000     30            NaN   50              Bechalor   \n",
              "2            0       1000     30            NaN   33              Bechalor   \n",
              "3            0       1000     15            NaN   27               college   \n",
              "4            0       1000     30            NaN   28               college   \n",
              "\n",
              "   Gender  paid_off_month  paid_off_hour  paid_off_dow  due_date_month  \\\n",
              "0    male             9.0           19.0           2.0              10   \n",
              "1  female            10.0            9.0           4.0              10   \n",
              "2  female             9.0           16.0           6.0              10   \n",
              "3    male             9.0           20.0           3.0               9   \n",
              "4  female             9.0           21.0           4.0              10   \n",
              "\n",
              "   due_date_dow  effective_date_month  effective_date_dow  \n",
              "0             4                     9                   3  \n",
              "1             4                     9                   3  \n",
              "2             4                     9                   3  \n",
              "3             3                     9                   3  \n",
              "4             5                     9                   4  "
            ],
            "text/html": [
              "\n",
              "  <div id=\"df-9c8ca26a-2a0e-4361-899e-598541eb49ed\">\n",
              "    <div class=\"colab-df-container\">\n",
              "      <div>\n",
              "<style scoped>\n",
              "    .dataframe tbody tr th:only-of-type {\n",
              "        vertical-align: middle;\n",
              "    }\n",
              "\n",
              "    .dataframe tbody tr th {\n",
              "        vertical-align: top;\n",
              "    }\n",
              "\n",
              "    .dataframe thead th {\n",
              "        text-align: right;\n",
              "    }\n",
              "</style>\n",
              "<table border=\"1\" class=\"dataframe\">\n",
              "  <thead>\n",
              "    <tr style=\"text-align: right;\">\n",
              "      <th></th>\n",
              "      <th>loan_status</th>\n",
              "      <th>Principal</th>\n",
              "      <th>terms</th>\n",
              "      <th>past_due_days</th>\n",
              "      <th>age</th>\n",
              "      <th>education</th>\n",
              "      <th>Gender</th>\n",
              "      <th>paid_off_month</th>\n",
              "      <th>paid_off_hour</th>\n",
              "      <th>paid_off_dow</th>\n",
              "      <th>due_date_month</th>\n",
              "      <th>due_date_dow</th>\n",
              "      <th>effective_date_month</th>\n",
              "      <th>effective_date_dow</th>\n",
              "    </tr>\n",
              "  </thead>\n",
              "  <tbody>\n",
              "    <tr>\n",
              "      <th>0</th>\n",
              "      <td>0</td>\n",
              "      <td>1000</td>\n",
              "      <td>30</td>\n",
              "      <td>NaN</td>\n",
              "      <td>45</td>\n",
              "      <td>High School or Below</td>\n",
              "      <td>male</td>\n",
              "      <td>9.0</td>\n",
              "      <td>19.0</td>\n",
              "      <td>2.0</td>\n",
              "      <td>10</td>\n",
              "      <td>4</td>\n",
              "      <td>9</td>\n",
              "      <td>3</td>\n",
              "    </tr>\n",
              "    <tr>\n",
              "      <th>1</th>\n",
              "      <td>0</td>\n",
              "      <td>1000</td>\n",
              "      <td>30</td>\n",
              "      <td>NaN</td>\n",
              "      <td>50</td>\n",
              "      <td>Bechalor</td>\n",
              "      <td>female</td>\n",
              "      <td>10.0</td>\n",
              "      <td>9.0</td>\n",
              "      <td>4.0</td>\n",
              "      <td>10</td>\n",
              "      <td>4</td>\n",
              "      <td>9</td>\n",
              "      <td>3</td>\n",
              "    </tr>\n",
              "    <tr>\n",
              "      <th>2</th>\n",
              "      <td>0</td>\n",
              "      <td>1000</td>\n",
              "      <td>30</td>\n",
              "      <td>NaN</td>\n",
              "      <td>33</td>\n",
              "      <td>Bechalor</td>\n",
              "      <td>female</td>\n",
              "      <td>9.0</td>\n",
              "      <td>16.0</td>\n",
              "      <td>6.0</td>\n",
              "      <td>10</td>\n",
              "      <td>4</td>\n",
              "      <td>9</td>\n",
              "      <td>3</td>\n",
              "    </tr>\n",
              "    <tr>\n",
              "      <th>3</th>\n",
              "      <td>0</td>\n",
              "      <td>1000</td>\n",
              "      <td>15</td>\n",
              "      <td>NaN</td>\n",
              "      <td>27</td>\n",
              "      <td>college</td>\n",
              "      <td>male</td>\n",
              "      <td>9.0</td>\n",
              "      <td>20.0</td>\n",
              "      <td>3.0</td>\n",
              "      <td>9</td>\n",
              "      <td>3</td>\n",
              "      <td>9</td>\n",
              "      <td>3</td>\n",
              "    </tr>\n",
              "    <tr>\n",
              "      <th>4</th>\n",
              "      <td>0</td>\n",
              "      <td>1000</td>\n",
              "      <td>30</td>\n",
              "      <td>NaN</td>\n",
              "      <td>28</td>\n",
              "      <td>college</td>\n",
              "      <td>female</td>\n",
              "      <td>9.0</td>\n",
              "      <td>21.0</td>\n",
              "      <td>4.0</td>\n",
              "      <td>10</td>\n",
              "      <td>5</td>\n",
              "      <td>9</td>\n",
              "      <td>4</td>\n",
              "    </tr>\n",
              "  </tbody>\n",
              "</table>\n",
              "</div>\n",
              "      <button class=\"colab-df-convert\" onclick=\"convertToInteractive('df-9c8ca26a-2a0e-4361-899e-598541eb49ed')\"\n",
              "              title=\"Convert this dataframe to an interactive table.\"\n",
              "              style=\"display:none;\">\n",
              "        \n",
              "  <svg xmlns=\"http://www.w3.org/2000/svg\" height=\"24px\"viewBox=\"0 0 24 24\"\n",
              "       width=\"24px\">\n",
              "    <path d=\"M0 0h24v24H0V0z\" fill=\"none\"/>\n",
              "    <path d=\"M18.56 5.44l.94 2.06.94-2.06 2.06-.94-2.06-.94-.94-2.06-.94 2.06-2.06.94zm-11 1L8.5 8.5l.94-2.06 2.06-.94-2.06-.94L8.5 2.5l-.94 2.06-2.06.94zm10 10l.94 2.06.94-2.06 2.06-.94-2.06-.94-.94-2.06-.94 2.06-2.06.94z\"/><path d=\"M17.41 7.96l-1.37-1.37c-.4-.4-.92-.59-1.43-.59-.52 0-1.04.2-1.43.59L10.3 9.45l-7.72 7.72c-.78.78-.78 2.05 0 2.83L4 21.41c.39.39.9.59 1.41.59.51 0 1.02-.2 1.41-.59l7.78-7.78 2.81-2.81c.8-.78.8-2.07 0-2.86zM5.41 20L4 18.59l7.72-7.72 1.47 1.35L5.41 20z\"/>\n",
              "  </svg>\n",
              "      </button>\n",
              "      \n",
              "  <style>\n",
              "    .colab-df-container {\n",
              "      display:flex;\n",
              "      flex-wrap:wrap;\n",
              "      gap: 12px;\n",
              "    }\n",
              "\n",
              "    .colab-df-convert {\n",
              "      background-color: #E8F0FE;\n",
              "      border: none;\n",
              "      border-radius: 50%;\n",
              "      cursor: pointer;\n",
              "      display: none;\n",
              "      fill: #1967D2;\n",
              "      height: 32px;\n",
              "      padding: 0 0 0 0;\n",
              "      width: 32px;\n",
              "    }\n",
              "\n",
              "    .colab-df-convert:hover {\n",
              "      background-color: #E2EBFA;\n",
              "      box-shadow: 0px 1px 2px rgba(60, 64, 67, 0.3), 0px 1px 3px 1px rgba(60, 64, 67, 0.15);\n",
              "      fill: #174EA6;\n",
              "    }\n",
              "\n",
              "    [theme=dark] .colab-df-convert {\n",
              "      background-color: #3B4455;\n",
              "      fill: #D2E3FC;\n",
              "    }\n",
              "\n",
              "    [theme=dark] .colab-df-convert:hover {\n",
              "      background-color: #434B5C;\n",
              "      box-shadow: 0px 1px 3px 1px rgba(0, 0, 0, 0.15);\n",
              "      filter: drop-shadow(0px 1px 2px rgba(0, 0, 0, 0.3));\n",
              "      fill: #FFFFFF;\n",
              "    }\n",
              "  </style>\n",
              "\n",
              "      <script>\n",
              "        const buttonEl =\n",
              "          document.querySelector('#df-9c8ca26a-2a0e-4361-899e-598541eb49ed button.colab-df-convert');\n",
              "        buttonEl.style.display =\n",
              "          google.colab.kernel.accessAllowed ? 'block' : 'none';\n",
              "\n",
              "        async function convertToInteractive(key) {\n",
              "          const element = document.querySelector('#df-9c8ca26a-2a0e-4361-899e-598541eb49ed');\n",
              "          const dataTable =\n",
              "            await google.colab.kernel.invokeFunction('convertToInteractive',\n",
              "                                                     [key], {});\n",
              "          if (!dataTable) return;\n",
              "\n",
              "          const docLinkHtml = 'Like what you see? Visit the ' +\n",
              "            '<a target=\"_blank\" href=https://colab.research.google.com/notebooks/data_table.ipynb>data table notebook</a>'\n",
              "            + ' to learn more about interactive tables.';\n",
              "          element.innerHTML = '';\n",
              "          dataTable['output_type'] = 'display_data';\n",
              "          await google.colab.output.renderOutput(dataTable, element);\n",
              "          const docLink = document.createElement('div');\n",
              "          docLink.innerHTML = docLinkHtml;\n",
              "          element.appendChild(docLink);\n",
              "        }\n",
              "      </script>\n",
              "    </div>\n",
              "  </div>\n",
              "  "
            ]
          },
          "metadata": {},
          "execution_count": 104
        }
      ]
    },
    {
      "cell_type": "code",
      "source": [
        "data.info()"
      ],
      "metadata": {
        "colab": {
          "base_uri": "https://localhost:8080/"
        },
        "id": "IOjKy8kNmorG",
        "outputId": "9ce6cb10-fe1c-4cc4-c9c2-42fc601e72df"
      },
      "execution_count": 105,
      "outputs": [
        {
          "output_type": "stream",
          "name": "stdout",
          "text": [
            "<class 'pandas.core.frame.DataFrame'>\n",
            "RangeIndex: 500 entries, 0 to 499\n",
            "Data columns (total 14 columns):\n",
            " #   Column                Non-Null Count  Dtype   \n",
            "---  ------                --------------  -----   \n",
            " 0   loan_status           500 non-null    int64   \n",
            " 1   Principal             500 non-null    int64   \n",
            " 2   terms                 500 non-null    int64   \n",
            " 3   past_due_days         200 non-null    float64 \n",
            " 4   age                   500 non-null    int64   \n",
            " 5   education             500 non-null    category\n",
            " 6   Gender                500 non-null    category\n",
            " 7   paid_off_month        400 non-null    float64 \n",
            " 8   paid_off_hour         400 non-null    float64 \n",
            " 9   paid_off_dow          400 non-null    float64 \n",
            " 10  due_date_month        500 non-null    int64   \n",
            " 11  due_date_dow          500 non-null    int64   \n",
            " 12  effective_date_month  500 non-null    int64   \n",
            " 13  effective_date_dow    500 non-null    int64   \n",
            "dtypes: category(2), float64(4), int64(8)\n",
            "memory usage: 48.3 KB\n"
          ]
        }
      ]
    },
    {
      "cell_type": "code",
      "execution_count": 106,
      "metadata": {
        "id": "o4j-82CgUS2w"
      },
      "outputs": [],
      "source": [
        "X = data.drop([\"loan_status\"], axis=1)\n",
        "y = data[\"loan_status\"]\n",
        "\n",
        "X = pd.get_dummies(X, drop_first=True)"
      ]
    },
    {
      "cell_type": "code",
      "execution_count": 107,
      "metadata": {
        "colab": {
          "base_uri": "https://localhost:8080/"
        },
        "id": "aP2Dbt6NUiDB",
        "outputId": "1e5d7eb0-79fc-4730-b7ec-dac2a3c5a2bb"
      },
      "outputs": [
        {
          "output_type": "stream",
          "name": "stdout",
          "text": [
            "(320, 15) (80, 15) (100, 15)\n"
          ]
        }
      ],
      "source": [
        "#Splitting the data into training, validation and test set\n",
        "\n",
        "#First we split the data into 2 parts, temporary and test set\n",
        "X_temp, X_test, y_temp, y_test = train_test_split(\n",
        "    X, y, test_size=0.2, random_state=5, stratify=y\n",
        ")\n",
        "\n",
        "#then we split the temporary dataset into train and validation\n",
        "X_train, X_val, y_train, y_val = train_test_split(\n",
        "    X_temp, y_temp, test_size=0.2, random_state=5, stratify=y_temp\n",
        ")\n",
        "\n",
        "print(X_train.shape, X_val.shape, X_test.shape)"
      ]
    },
    {
      "cell_type": "code",
      "metadata": {
        "id": "Oy7LQSmJ5cJg"
      },
      "source": [
        "# Let's impute the missing values\n",
        "imp_median = SimpleImputer(missing_values=np.nan, strategy=\"median\")\n",
        "\n",
        "# fit the imputer on train data and transform the train data\n",
        "X_train[\"past_due_days\"] = imp_median.fit_transform(X_train[[\"past_due_days\"]])\n",
        "\n",
        "# transform the validation and test data using the imputer fit on train data\n",
        "X_val[\"past_due_days\"] = imp_median.transform(X_val[[\"past_due_days\"]])\n",
        "X_test[\"past_due_days\"] = imp_median.transform(X_test[[\"past_due_days\"]])\n",
        "\n",
        "X_train[\"paid_off_month\"] = imp_median.fit_transform(X_train[[\"paid_off_month\"]])\n",
        "\n",
        "# transform the validation and test data using the imputer fit on train data\n",
        "X_val[\"paid_off_month\"] = imp_median.transform(X_val[[\"paid_off_month\"]])\n",
        "X_test[\"paid_off_month\"] = imp_median.transform(X_test[[\"paid_off_month\"]])\n",
        "\n",
        "X_train[\"paid_off_hour\"] = imp_median.fit_transform(X_train[[\"paid_off_hour\"]])\n",
        "\n",
        "# transform the validation and test data using the imputer fit on train data\n",
        "X_val[\"paid_off_hour\"] = imp_median.transform(X_val[[\"paid_off_hour\"]])\n",
        "X_test[\"paid_off_hour\"] = imp_median.transform(X_test[[\"paid_off_hour\"]])\n",
        "\n",
        "X_train[\"paid_off_dow\"] = imp_median.fit_transform(X_train[[\"paid_off_dow\"]])\n",
        "\n",
        "# transform the validation and test data using the imputer fit on train data\n",
        "X_val[\"paid_off_dow\"] = imp_median.transform(X_val[[\"paid_off_dow\"]])\n",
        "X_test[\"paid_off_dow\"] = imp_median.transform(X_test[[\"paid_off_dow\"]])"
      ],
      "execution_count": 108,
      "outputs": []
    },
    {
      "cell_type": "code",
      "source": [
        "#transformer = ColumnTransformer(transformers=[('num', SimpleImputer(strategy='median'), [3,7,8,9])], remainder='passthrough')\n",
        "\n",
        "#X_train = transformer.fit_transform(X_train)\n",
        "#X_val = transformer.fit_transform(X_val)\n",
        "#X_test = transformer.fit_transform(X_test)"
      ],
      "metadata": {
        "id": "ZEesp-uZrjRX"
      },
      "execution_count": 79,
      "outputs": []
    },
    {
      "cell_type": "code",
      "execution_count": 109,
      "metadata": {
        "colab": {
          "base_uri": "https://localhost:8080/"
        },
        "id": "0qmWAysWXGue",
        "outputId": "237a74ab-f11c-4962-c6b1-d0072f40cadf"
      },
      "outputs": [
        {
          "output_type": "stream",
          "name": "stdout",
          "text": [
            "Target value ratio in y\n",
            "0    0.6\n",
            "1    0.4\n",
            "Name: loan_status, dtype: float64\n",
            "********************************************************************************\n",
            "Target value ratio in y_train\n",
            "0    0.6\n",
            "1    0.4\n",
            "Name: loan_status, dtype: float64\n",
            "********************************************************************************\n",
            "Target value ratio in y_val\n",
            "0    0.6\n",
            "1    0.4\n",
            "Name: loan_status, dtype: float64\n",
            "********************************************************************************\n",
            "Target value ratio in y_test\n",
            "0    0.6\n",
            "1    0.4\n",
            "Name: loan_status, dtype: float64\n",
            "********************************************************************************\n"
          ]
        }
      ],
      "source": [
        "print(\"Target value ratio in y\")\n",
        "print(y.value_counts(1))\n",
        "print(\"*\" * 80)\n",
        "print(\"Target value ratio in y_train\")\n",
        "print(y_train.value_counts(1))\n",
        "print(\"*\" * 80)\n",
        "print(\"Target value ratio in y_val\")\n",
        "print(y_val.value_counts(1))\n",
        "print(\"*\" * 80)\n",
        "print(\"Target value ratio in y_test\")\n",
        "print(y_test.value_counts(1))\n",
        "print(\"*\" * 80)"
      ]
    },
    {
      "cell_type": "markdown",
      "metadata": {
        "id": "30jm_OXJat4G"
      },
      "source": [
        "## Model evaluation criterion\n",
        "\n",
        "\n",
        "**What does a bank want?**\n",
        "* A bank wants to minimize the loss - it can face 2 types of losses here: \n",
        "   * Whenever a bank lends money to a customer, they don't return it.\n",
        "   * A bank doesn't lend money to a customer thinking a customer will default but in reality, the customer won't - opportunity loss.\n",
        "\n",
        "**Which loss is greater ?**\n",
        "* Lending to a customer who wouldn't be able to pay back.\n",
        "\n",
        "**Since we want to reduce loan defaults we should use Recall as a metric of model evaluation instead of accuracy.**\n",
        "\n",
        "* Recall - It gives the ratio of True positives to Actual positives, so high Recall implies low false negatives, i.e. low chances of predicting a bad customer as a good customer.\n"
      ]
    },
    {
      "cell_type": "markdown",
      "metadata": {
        "id": "j6alhuirsj1r"
      },
      "source": [
        "# Hyperparameter Tuning"
      ]
    },
    {
      "cell_type": "code",
      "execution_count": 110,
      "metadata": {
        "colab": {
          "base_uri": "https://localhost:8080/"
        },
        "id": "9hKVS0RudEkG",
        "outputId": "32cf557c-0ea4-433c-dee0-ab94d7979334"
      },
      "outputs": [
        {
          "output_type": "execute_result",
          "data": {
            "text/plain": [
              "RandomForestClassifier(random_state=1)"
            ]
          },
          "metadata": {},
          "execution_count": 110
        }
      ],
      "source": [
        "# model without hyperparameter tuning\n",
        "rf = RandomForestClassifier(random_state=1)\n",
        "rf.fit(X_train, y_train)"
      ]
    },
    {
      "cell_type": "code",
      "execution_count": 111,
      "metadata": {
        "colab": {
          "base_uri": "https://localhost:8080/"
        },
        "id": "Wpmoqh8sat4I",
        "outputId": "3c00ec76-8038-4a80-a47a-f306f6c0b6aa"
      },
      "outputs": [
        {
          "output_type": "stream",
          "name": "stdout",
          "text": [
            "Recall on train and validation set\n",
            "1.0\n",
            "1.0\n",
            "\n",
            "Precision on train and validation set\n",
            "1.0\n",
            "1.0\n",
            "\n",
            "Accuracy on train and validation set\n",
            "1.0\n",
            "1.0\n"
          ]
        }
      ],
      "source": [
        "# Checking recall score on train and validation set\n",
        "print(\"Recall on train and validation set\")\n",
        "print(recall_score(y_train, rf.predict(X_train)))\n",
        "print(recall_score(y_val, rf.predict(X_val)))\n",
        "print(\"\")\n",
        "\n",
        "# Checking Precision score on train and validation set\n",
        "print(\"Precision on train and validation set\")\n",
        "print(precision_score(y_train, rf.predict(X_train)))\n",
        "print(precision_score(y_val, rf.predict(X_val)))\n",
        "\n",
        "print(\"\")\n",
        "\n",
        "# Checking Accuracy score on train and validation set\n",
        "print(\"Accuracy on train and validation set\")\n",
        "print(accuracy_score(y_train, rf.predict(X_train)))\n",
        "print(accuracy_score(y_val, rf.predict(X_val)))"
      ]
    },
    {
      "cell_type": "markdown",
      "metadata": {
        "id": "EptTvLbuat4J"
      },
      "source": [
        "## Grid Search CV\n",
        "* Hyperparameter tuning is also tricky in the sense that there is no direct way to calculate how a change in the hyperparameter value will reduce the loss of your model, so we usually resort to experimentation. i.e we'll use Grid search\n",
        "* Grid search is a tuning technique that attempts to compute the optimum values of hyperparameters. \n",
        "* It is an exhaustive search that is performed on the specific parameter values of a model.\n",
        "* The parameters of the estimator/model used to apply these methods are optimized by cross-validated grid-search over a parameter grid."
      ]
    },
    {
      "cell_type": "code",
      "execution_count": 112,
      "metadata": {
        "colab": {
          "base_uri": "https://localhost:8080/"
        },
        "id": "w9_tWJ6Hgf2b",
        "outputId": "b46607b1-442d-4f81-d5fb-bae37d68fb4d"
      },
      "outputs": [
        {
          "output_type": "execute_result",
          "data": {
            "text/plain": [
              "{'bootstrap': True,\n",
              " 'ccp_alpha': 0.0,\n",
              " 'class_weight': None,\n",
              " 'criterion': 'gini',\n",
              " 'max_depth': None,\n",
              " 'max_features': 'auto',\n",
              " 'max_leaf_nodes': None,\n",
              " 'max_samples': None,\n",
              " 'min_impurity_decrease': 0.0,\n",
              " 'min_samples_leaf': 1,\n",
              " 'min_samples_split': 2,\n",
              " 'min_weight_fraction_leaf': 0.0,\n",
              " 'n_estimators': 100,\n",
              " 'n_jobs': None,\n",
              " 'oob_score': False,\n",
              " 'random_state': None,\n",
              " 'verbose': 0,\n",
              " 'warm_start': False}"
            ]
          },
          "metadata": {},
          "execution_count": 112
        }
      ],
      "source": [
        "RandomForestClassifier().get_params()"
      ]
    },
    {
      "cell_type": "code",
      "execution_count": 113,
      "metadata": {
        "colab": {
          "base_uri": "https://localhost:8080/"
        },
        "id": "VnKFyRAwVAPn",
        "outputId": "4b73f35a-033a-445c-8f50-5e0a25832ae7"
      },
      "outputs": [
        {
          "output_type": "stream",
          "name": "stdout",
          "text": [
            "[0.2 0.3 0.4 0.5 0.6]\n",
            "[5 6 7 8 9]\n"
          ]
        }
      ],
      "source": [
        "print(np.arange(0.2, 0.7, 0.1))\n",
        "\n",
        "print(np.arange(5,10))"
      ]
    },
    {
      "cell_type": "markdown",
      "metadata": {
        "id": "3m5AtskSat4K"
      },
      "source": [
        "### Let's tune Random forest using Grid Search"
      ]
    },
    {
      "cell_type": "code",
      "execution_count": 114,
      "metadata": {
        "colab": {
          "base_uri": "https://localhost:8080/"
        },
        "id": "ylfOoVr0at4K",
        "outputId": "792d099b-d1bf-476c-e5af-9ebd2a1a446b"
      },
      "outputs": [
        {
          "output_type": "stream",
          "name": "stdout",
          "text": [
            "Fitting 5 folds for each of 1800 candidates, totalling 9000 fits\n",
            "CPU times: user 36.1 s, sys: 2.83 s, total: 38.9 s\n",
            "Wall time: 38min 28s\n"
          ]
        },
        {
          "output_type": "execute_result",
          "data": {
            "text/plain": [
              "{'class_weight': 'balanced',\n",
              " 'max_depth': 3,\n",
              " 'max_features': 0.4000000000000001,\n",
              " 'max_samples': 0.6000000000000001,\n",
              " 'min_impurity_decrease': 0.001,\n",
              " 'min_samples_leaf': 5,\n",
              " 'n_estimators': 150}"
            ]
          },
          "metadata": {},
          "execution_count": 114
        }
      ],
      "source": [
        "%%time\n",
        "\n",
        "# Choose the type of classifier. \n",
        "rf1 = RandomForestClassifier(random_state=1)\n",
        "\n",
        "# Grid of parameters to choose from\n",
        "parameters = {\"n_estimators\": [150,200,250],\n",
        "    \"min_samples_leaf\": np.arange(5, 10),\n",
        "    \"max_features\": np.arange(0.2, 0.7, 0.1),\n",
        "    \"max_samples\": np.arange(0.3, 0.7, 0.1),\n",
        "    \"class_weight\" : ['balanced', 'balanced_subsample'],\n",
        "    \"max_depth\":np.arange(3,4,5),\n",
        "    \"min_impurity_decrease\":[0.001, 0.002, 0.003]\n",
        "             }\n",
        "\n",
        "# Type of scoring used to compare parameter combinations\n",
        "acc_scorer = metrics.make_scorer(metrics.recall_score)\n",
        "\n",
        "# Run the grid search\n",
        "grid_obj = GridSearchCV(rf1, parameters, scoring=acc_scorer, cv=5, n_jobs= -1, verbose = 2)\n",
        "# verbose = 2 tells about the number of fits, which can give an idea of how long will the model take in tuning\n",
        "# n_jobs = -1 so that all CPU cores can be run parallelly to optimize the Search\n",
        "\n",
        "grid_obj = grid_obj.fit(X_train, y_train)\n",
        "\n",
        "# Print the best combination of parameters\n",
        "grid_obj.best_params_\n"
      ]
    },
    {
      "cell_type": "code",
      "execution_count": 115,
      "metadata": {
        "colab": {
          "base_uri": "https://localhost:8080/"
        },
        "id": "SVO8ak5Fat4L",
        "outputId": "ac1b6361-b585-4e50-9634-54cf5b64c6d3"
      },
      "outputs": [
        {
          "output_type": "execute_result",
          "data": {
            "text/plain": [
              "0.9763076923076923"
            ]
          },
          "metadata": {},
          "execution_count": 115
        }
      ],
      "source": [
        "grid_obj.best_score_"
      ]
    },
    {
      "cell_type": "code",
      "execution_count": 116,
      "metadata": {
        "colab": {
          "base_uri": "https://localhost:8080/"
        },
        "id": "LgTSXwpOg6xO",
        "outputId": "1b7457b9-aba2-48d9-c6bc-690f50f26bf3"
      },
      "outputs": [
        {
          "output_type": "execute_result",
          "data": {
            "text/plain": [
              "RandomForestClassifier(class_weight='balanced', max_depth=3, max_features=0.2,\n",
              "                       max_samples=0.6000000000000001,\n",
              "                       min_impurity_decrease=0.001, min_samples_leaf=5,\n",
              "                       n_estimators=150, random_state=1)"
            ]
          },
          "metadata": {},
          "execution_count": 116
        }
      ],
      "source": [
        "# Set the clf to the best combination of parameters\n",
        "rf1_tuned = RandomForestClassifier(\n",
        "    class_weight=\"balanced\",\n",
        "    max_features=0.2,\n",
        "    max_samples=0.6000000000000001,\n",
        "    min_samples_leaf=5,\n",
        "    n_estimators=150,\n",
        "    max_depth=3,\n",
        "    random_state=1,\n",
        "    min_impurity_decrease=0.001,\n",
        ")\n",
        "\n",
        "# Fit the best algorithm to the data.\n",
        "rf1_tuned.fit(X_train, y_train)"
      ]
    },
    {
      "cell_type": "code",
      "execution_count": 117,
      "metadata": {
        "colab": {
          "base_uri": "https://localhost:8080/"
        },
        "id": "Uwkw63nFat4M",
        "outputId": "6bfb3b07-1241-4bbe-a9eb-51f463d607c4"
      },
      "outputs": [
        {
          "output_type": "stream",
          "name": "stdout",
          "text": [
            "Recall on train and validation set\n",
            "0.984375\n",
            "0.96875\n",
            "\n",
            "Precision on train and validation set\n",
            "0.9767441860465116\n",
            "0.96875\n",
            "\n",
            "Accuracy on train and validation set\n",
            "0.984375\n",
            "0.975\n"
          ]
        }
      ],
      "source": [
        "# Checking recall score on train and validation set\n",
        "print(\"Recall on train and validation set\")\n",
        "print(recall_score(y_train, rf1_tuned.predict(X_train)))\n",
        "print(recall_score(y_val, rf1_tuned.predict(X_val)))\n",
        "print(\"\")\n",
        "\n",
        "# Checking precision score on train and validation set\n",
        "print(\"Precision on train and validation set\")\n",
        "print(precision_score(y_train, rf1_tuned.predict(X_train)))\n",
        "print(precision_score(y_val, rf1_tuned.predict(X_val)))\n",
        "print(\"\")\n",
        "\n",
        "# Checking accuracy score on train and validation set\n",
        "print(\"Accuracy on train and validation set\")\n",
        "print(accuracy_score(y_train, rf1_tuned.predict(X_train)))\n",
        "print(accuracy_score(y_val, rf1_tuned.predict(X_val)))"
      ]
    },
    {
      "cell_type": "markdown",
      "metadata": {
        "id": "UnujALXkat4O"
      },
      "source": [
        "## Randomized Search CV\n",
        "* Random search is a tuning technique that attempts to compute the optimum values of hyperparameters randomly unlike grid search"
      ]
    },
    {
      "cell_type": "code",
      "execution_count": 118,
      "metadata": {
        "colab": {
          "base_uri": "https://localhost:8080/"
        },
        "id": "-4Lkjcefat4P",
        "outputId": "4d180390-4455-4ece-eaca-397dc3bb3903"
      },
      "outputs": [
        {
          "output_type": "stream",
          "name": "stdout",
          "text": [
            "Fitting 5 folds for each of 30 candidates, totalling 150 fits\n",
            "CPU times: user 836 ms, sys: 80.6 ms, total: 916 ms\n",
            "Wall time: 38 s\n"
          ]
        },
        {
          "output_type": "execute_result",
          "data": {
            "text/plain": [
              "{'n_estimators': 150,\n",
              " 'min_samples_leaf': 5,\n",
              " 'min_impurity_decrease': 0.002,\n",
              " 'max_samples': 0.6000000000000001,\n",
              " 'max_features': 0.4000000000000001,\n",
              " 'max_depth': 3,\n",
              " 'class_weight': 'balanced'}"
            ]
          },
          "metadata": {},
          "execution_count": 118
        }
      ],
      "source": [
        "%%time\n",
        "\n",
        "# Choose the type of classifier. \n",
        "rf2 = RandomForestClassifier(random_state=1)\n",
        "\n",
        "# Grid of parameters to choose from\n",
        "parameters = {\"n_estimators\": [150,200,250],\n",
        "    \"min_samples_leaf\": np.arange(5, 10),\n",
        "    \"max_features\": np.arange(0.2, 0.7, 0.1), \n",
        "    \"max_samples\": np.arange(0.3, 0.7, 0.1),\n",
        "    \"max_depth\":np.arange(3,4,5),\n",
        "    \"class_weight\" : ['balanced', 'balanced_subsample'],\n",
        "    \"min_impurity_decrease\":[0.001, 0.002, 0.003]\n",
        "             }\n",
        "\n",
        "# Type of scoring used to compare parameter combinations\n",
        "acc_scorer = metrics.make_scorer(metrics.recall_score)\n",
        "\n",
        "# Run the random search\n",
        "grid_obj = RandomizedSearchCV(rf2, parameters,n_iter=30, scoring=acc_scorer,cv=5, random_state = 1, n_jobs = -1, verbose = 2)\n",
        "# using n_iter = 30, so randomized search will try 30 different combinations of hyperparameters\n",
        "# by default, n_iter = 10\n",
        "\n",
        "grid_obj = grid_obj.fit(X_train, y_train)\n",
        "\n",
        "# Print the best combination of parameters\n",
        "grid_obj.best_params_\n"
      ]
    },
    {
      "cell_type": "code",
      "execution_count": 119,
      "metadata": {
        "colab": {
          "base_uri": "https://localhost:8080/"
        },
        "id": "OjXflRTVhJxX",
        "outputId": "3de349b1-0ea6-412c-bed3-04c3a27a564b"
      },
      "outputs": [
        {
          "output_type": "execute_result",
          "data": {
            "text/plain": [
              "0.9763076923076923"
            ]
          },
          "metadata": {},
          "execution_count": 119
        }
      ],
      "source": [
        "grid_obj.best_score_"
      ]
    },
    {
      "cell_type": "code",
      "execution_count": 120,
      "metadata": {
        "colab": {
          "base_uri": "https://localhost:8080/"
        },
        "id": "uuFBNxf6hMSJ",
        "outputId": "c854eeec-d55a-44d2-8665-626f86c4231d"
      },
      "outputs": [
        {
          "output_type": "execute_result",
          "data": {
            "text/plain": [
              "RandomForestClassifier(class_weight='balanced', max_depth=3, max_features=0.2,\n",
              "                       max_samples=0.5, min_impurity_decrease=0.003,\n",
              "                       min_samples_leaf=5, n_estimators=150, random_state=1)"
            ]
          },
          "metadata": {},
          "execution_count": 120
        }
      ],
      "source": [
        "# Set the clf to the best combination of parameters\n",
        "rf2_tuned = RandomForestClassifier(\n",
        "    class_weight=\"balanced\",\n",
        "    max_features=0.2,\n",
        "    max_samples=0.5,\n",
        "    min_samples_leaf=5,\n",
        "    n_estimators=150,\n",
        "    random_state=1,\n",
        "    max_depth=3,\n",
        "    min_impurity_decrease=0.003,\n",
        ")\n",
        "\n",
        "# Fit the best algorithm to the data.\n",
        "rf2_tuned.fit(X_train, y_train)"
      ]
    },
    {
      "cell_type": "code",
      "execution_count": 121,
      "metadata": {
        "colab": {
          "base_uri": "https://localhost:8080/"
        },
        "id": "Ji4FaIJ3hOoK",
        "outputId": "d4a47dd9-ab91-4585-8175-38be130ee962"
      },
      "outputs": [
        {
          "output_type": "stream",
          "name": "stdout",
          "text": [
            "Recall on train and validation set\n",
            "0.9609375\n",
            "0.96875\n",
            "\n",
            "Precision on train and validation set\n",
            "0.9761904761904762\n",
            "1.0\n",
            "\n",
            "Accuracy on train and validation set\n",
            "0.975\n",
            "0.9875\n"
          ]
        }
      ],
      "source": [
        "# Checking recall score on train and validation set\n",
        "print(\"Recall on train and validation set\")\n",
        "print(recall_score(y_train, rf2_tuned.predict(X_train)))\n",
        "print(recall_score(y_val, rf2_tuned.predict(X_val)))\n",
        "print(\"\")\n",
        "print(\"Precision on train and validation set\")\n",
        "# Checking precision score on train and validation set\n",
        "print(precision_score(y_train, rf2_tuned.predict(X_train)))\n",
        "print(precision_score(y_val, rf2_tuned.predict(X_val)))\n",
        "print(\"\")\n",
        "print(\"Accuracy on train and validation set\")\n",
        "# Checking accuracy score on train and validation set\n",
        "print(accuracy_score(y_train, rf2_tuned.predict(X_train)))\n",
        "print(accuracy_score(y_val, rf2_tuned.predict(X_val)))"
      ]
    },
    {
      "cell_type": "code",
      "execution_count": 122,
      "metadata": {
        "id": "GiA6Vt0uhRIs"
      },
      "outputs": [],
      "source": [
        "model = rf1_tuned"
      ]
    },
    {
      "cell_type": "code",
      "execution_count": 123,
      "metadata": {
        "colab": {
          "base_uri": "https://localhost:8080/"
        },
        "id": "fUTQw9GfhTZL",
        "outputId": "48b919ff-8013-4d75-a999-a30841bcaffb"
      },
      "outputs": [
        {
          "output_type": "stream",
          "name": "stdout",
          "text": [
            "Recall on test set\n",
            "1.0\n",
            "\n",
            "Precision on test set\n",
            "0.975609756097561\n",
            "\n",
            "Accuracy on test set\n",
            "0.99\n"
          ]
        }
      ],
      "source": [
        "# Checking recall score on test set\n",
        "print(\"Recall on test set\")\n",
        "print(recall_score(y_test, model.predict(X_test)))\n",
        "print(\"\")\n",
        "\n",
        "# Checking precision score on test set\n",
        "print(\"Precision on test set\")\n",
        "print(precision_score(y_test, model.predict(X_test)))\n",
        "print(\"\")\n",
        "\n",
        "# Checking accuracy score on test set\n",
        "print(\"Accuracy on test set\")\n",
        "print(accuracy_score(y_test, model.predict(X_test)))"
      ]
    }
  ],
  "metadata": {
    "colab": {
      "provenance": []
    },
    "gpuClass": "standard",
    "kernelspec": {
      "display_name": "Python 3",
      "name": "python3"
    },
    "language_info": {
      "name": "python"
    }
  },
  "nbformat": 4,
  "nbformat_minor": 0
}